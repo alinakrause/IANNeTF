{
  "cells": [
    {
      "cell_type": "code",
      "execution_count": 51,
      "metadata": {
        "id": "tI76e8GaK_5F"
      },
      "outputs": [],
      "source": [
        "import os\n",
        "import glob\n",
        "import imageio\n",
        "import matplotlib.pyplot as plt\n",
        "import numpy as np\n",
        "import PIL\n",
        "import time\n",
        "import math\n",
        "\n",
        "from IPython import display"
      ]
    },
    {
      "cell_type": "code",
      "execution_count": 52,
      "metadata": {
        "colab": {
          "base_uri": "https://localhost:8080/"
        },
        "id": "Yk_9yXEg31wA",
        "outputId": "1f8da9f6-9d39-4e46-b59e-e2ce53f4d3bd"
      },
      "outputs": [
        {
          "output_type": "stream",
          "name": "stdout",
          "text": [
            "[b'aircraft carrier', b'airplane', b'alarm clock', b'ambulance', b'angel', b'animal migration', b'ant', b'anvil', b'apple', b'arm']\n"
          ]
        }
      ],
      "source": [
        "import urllib\n",
        "categories = [line.rstrip(b'\\n') for line in urllib.request.urlopen('https://raw.githubusercontent.com/googlecreativelab/quickdraw-dataset/master/categories.txt')]\n",
        "print(categories[:10])\n",
        "category = 'candle'"
      ]
    },
    {
      "cell_type": "code",
      "execution_count": 53,
      "metadata": {
        "colab": {
          "base_uri": "https://localhost:8080/"
        },
        "id": "pVCPuuR339LX",
        "outputId": "cbee13b7-aab1-4c77-d399-a3e35a48e830"
      },
      "outputs": [
        {
          "output_type": "stream",
          "name": "stdout",
          "text": [
            "30016 train images to train on\n",
            "1024 test images to train on\n"
          ]
        }
      ],
      "source": [
        "# Creates a folder to download the original drawings into.\n",
        "# We chose to use the numpy format : 1x784 pixel vectors, with values going from 0 (white) to 255 (black). We reshape them later to 28x28 grids and normalize the pixel intensity to [-1, 1]\n",
        "\n",
        "if not os.path.isdir('npy_files'):\n",
        "    os.mkdir('npy_files')\n",
        "    \n",
        "url = f'https://storage.googleapis.com/quickdraw_dataset/full/numpy_bitmap/{category}.npy'  \n",
        "urllib.request.urlretrieve(url, f'npy_files/{category}.npy')\n",
        "\n",
        "images = np.load(f'npy_files/{category}.npy')\n",
        "#print(f'{len(images)} images to train on')\n",
        "\n",
        "# You can limit the amount of images you use for training by setting :\n",
        "train_images = images[:30016]\n",
        "print(f'{len(train_images)} train images to train on')\n",
        "# You should also define a samller subset of the images for testing..\n",
        "test_images = images[30016:31040]\n",
        "print(f'{len(test_images)} test images to train on')\n",
        "# Notice that this to numpy format contains 1x784 pixel vectors, with values going from 0 (white) to 255 (black). We reshape them later to 28x28 grids and normalize the pixel intensity to [-1, 1]"
      ]
    },
    {
      "cell_type": "code",
      "execution_count": 54,
      "metadata": {
        "id": "teobLB2_Y0w4"
      },
      "outputs": [],
      "source": [
        "import tensorflow as tf\n",
        "#turn into tf Dataset\n",
        "#reshape into 28,28,1 images\n",
        "#add label 'candle' to each image\n",
        "\n",
        "def preprocess(data):\n",
        "    data = data.tolist()\n",
        "    data = tf.data.Dataset.from_tensor_slices((data))\n",
        "    data = data.map(lambda img: (tf.cast(img, tf.float32)))\n",
        "    data = data.map(lambda img: ((img/128.)-1.))\n",
        "    data = data.map(lambda img: (tf.reshape(img, [28,28,1])))\n",
        "    #data = data.map(lambda img: (img, 'candle'))\n",
        "    data = data.shuffle(1000)\n",
        "    data = data.batch(32)\n",
        "    data = data.prefetch(20)\n",
        "\n",
        "    return data"
      ]
    },
    {
      "cell_type": "code",
      "execution_count": 55,
      "metadata": {
        "colab": {
          "base_uri": "https://localhost:8080/"
        },
        "id": "HD8Vu3fcbX9V",
        "outputId": "580b5645-1e6c-4d5d-e0f1-8621f35ac642"
      },
      "outputs": [
        {
          "output_type": "stream",
          "name": "stdout",
          "text": [
            "<class 'tensorflow.python.data.ops.dataset_ops.PrefetchDataset'>\n"
          ]
        }
      ],
      "source": [
        "train_ds = preprocess(train_images)\n",
        "test_ds = preprocess(test_images) \n",
        "\n",
        "print(type(test_ds))"
      ]
    },
    {
      "cell_type": "code",
      "execution_count": 56,
      "metadata": {
        "id": "XuGaFAdSXQUf"
      },
      "outputs": [],
      "source": [
        "from tensorflow.python.ops.gen_dataset_ops import FinalizeDataset\n",
        "class Discriminator(tf.keras.Model):\n",
        "    #The underlying idea of the discriminator is to perform\n",
        "    #downsampling and then outputting a vector of probabilities indicating\n",
        "    #whether the input was fake or real\n",
        "\n",
        "    def __init__(self):\n",
        "      \n",
        "        super().__init__()\n",
        "\n",
        "        self.optimizer = tf.keras.optimizers.Adam()\n",
        "        self.metrics_list = [tf.keras.metrics.Mean(name=\"loss\")]\n",
        "        self.loss = tf.keras.losses.BinaryCrossentropy()\n",
        "\n",
        "        self.layer1 = tf.keras.Sequential()\n",
        "        self.layer1.add(tf.keras.layers.Conv2D(filters=32, kernel_size=3, padding='valid', activation='relu')) \n",
        "        self.layer1.add(tf.keras.layers.LeakyReLU())\n",
        "        self.layer1.add(tf.keras.layers.Dropout(0.2))\n",
        "        \n",
        "        self.layer2 = tf.keras.Sequential()\n",
        "        self.layer2.add(tf.keras.layers.Conv2D(filters=32, kernel_size=3, padding='valid', activation='relu')) \n",
        "        self.layer2.add(tf.keras.layers.LeakyReLU())\n",
        "        self.layer2.add(tf.keras.layers.Dropout(0.2))\n",
        "        \n",
        "        self.flatten = tf.keras.layers.Flatten()\n",
        "        self.out = tf.keras.layers.Dense(1, activation='sigmoid')\n",
        "      \n",
        "    @tf.function\n",
        "    def call(self, x, training=False):\n",
        "        x = self.layer1(x, training=training)\n",
        "        x = self.layer2(x, training=training)\n",
        "        x = self.flatten(x, training=training)\n",
        "        x = self.out(x, training=training)\n",
        "\n",
        "        return x\n",
        "\n",
        "    def reset_metrics(self):\n",
        "        for metric in self.metrics:\n",
        "            metric.reset_states()\n",
        "    \n",
        "    @tf.function\n",
        "    def train_step(self, data):\n",
        "        return {m.name: m.result() for m in self.metrics}\n",
        "\n",
        "    @tf.function\n",
        "    def testn_step(self, data):\n",
        "        return {m.name: m.result() for m in self.metrics}\n",
        "        "
      ]
    },
    {
      "cell_type": "code",
      "execution_count": 57,
      "metadata": {
        "id": "EDz1s2JucjEx"
      },
      "outputs": [],
      "source": [
        "class Generator(tf.keras.Model):\n",
        "    \"\"\"The generator takes a random point from the latent\n",
        "    space6 and returns a generated image. The latent space comes as a 1d\n",
        "    vector, so to receive a 2d image you need to reshape it. To increase the\n",
        "    size, use upsampling techniques like Conv2DTranspose78. In the last layer,\n",
        "    perform a convolution with 1 feature map and tanh activation. This will\n",
        "    be the output image\"\"\"\n",
        "\n",
        "    def __init__(self):\n",
        "        super().__init__()\n",
        "\n",
        "        \n",
        "        self.optimizer = tf.keras.optimizers.Adam(0.0005)\n",
        "        self.metrics_list = [tf.keras.metrics.Mean(name=\"loss\")]\n",
        "        self.loss = tf.keras.losses.BinaryCrossentropy()\n",
        "\n",
        "        #model from tutorial\n",
        "        self.reshape = tf.keras.Sequential()\n",
        "        self.reshape.add(tf.keras.layers.Dense(7*7*256, use_bias=False, input_shape=(100,)))\n",
        "        self.reshape.add(tf.keras.layers.Dropout(0.2))\n",
        "        self.reshape.add(tf.keras.layers.BatchNormalization())\n",
        "        self.reshape.add(tf.keras.layers.LeakyReLU())\n",
        "\n",
        "        self.reshape.add(tf.keras.layers.Reshape((7, 7, 256)))\n",
        "        #assert model.output_shape == (None, 7, 7, 256) \n",
        "\n",
        "        self.layer1 = tf.keras.Sequential()\n",
        "        self.layer1.add(tf.keras.layers.Conv2DTranspose(128, (5, 5), strides=(1, 1), padding='same', use_bias=False))\n",
        "        #assert model.output_shape == (None, 7, 7, 128)\n",
        "        self.layer1.add(tf.keras.layers.Dropout(0.2))\n",
        "        self.layer1.add(tf.keras.layers.BatchNormalization())\n",
        "        self.layer1.add(tf.keras.layers.LeakyReLU())\n",
        "\n",
        "        self.layer2 = tf.keras.Sequential()\n",
        "        self.layer2.add(tf.keras.layers.Conv2DTranspose(64, (5, 5), strides=(2, 2), padding='same', use_bias=False))\n",
        "        #assert model.output_shape == (None, 14, 14, 64)\n",
        "        self.layer2.add(tf.keras.layers.Dropout(0.2))\n",
        "        self.layer2.add(tf.keras.layers.BatchNormalization())\n",
        "        self.layer2.add(tf.keras.layers.LeakyReLU())\n",
        "\n",
        "        self.out = tf.keras.layers.Conv2DTranspose(1, (5, 5), strides=(2, 2), padding='same', use_bias=False, activation='tanh')\n",
        "        #assert model.output_shape == (None, 28, 28, 1)\n",
        "\n",
        "\n",
        "        \n",
        "\n",
        "    @tf.function  \n",
        "    def call(self, x, training=False):\n",
        "      \n",
        "        x = self.reshape(x)   \n",
        "        x = self.layer1(x, training=training)\n",
        "        x = self.layer2(x, training=training)\n",
        "        x = self.out(x)\n",
        "        \n",
        "        return x\n",
        "\n",
        "    def reset_metrics(self):\n",
        "        for metric in self.metrics:\n",
        "            metric.reset_states()\n",
        "    \n",
        "    @tf.function\n",
        "    def train_step(self, data):\n",
        "        return {m.name: m.result() for m in self.metrics}\n",
        "\n",
        "    @tf.function\n",
        "    def testn_step(self, data):\n",
        "        return {m.name: m.result() for m in self.metrics}\n",
        "        \n"
      ]
    },
    {
      "cell_type": "code",
      "execution_count": 58,
      "metadata": {
        "id": "x18a7sW441Sf"
      },
      "outputs": [],
      "source": [
        "def train_step(generator, discriminator, real_data, gen_vis):\n",
        "    training=True\n",
        "\n",
        "    noise = tf.random.normal([32,100]) # noise vector for generator\n",
        "    gen_t_fake_data = tf.ones((32,1)) # targets for fake images for generator & real images for discriminator\n",
        "    dis_t_fake_data = tf.zeros((32,1)) # targets for fake images for discriminator\n",
        "\n",
        "    # train discriminator on real images\n",
        "    # forward and backwards pass\n",
        "    with tf.GradientTape() as tape_dis1:\n",
        "        pred_true = discriminator(real_data, training=training)\n",
        "        loss_dis1 = discriminator.loss(gen_t_fake_data, pred_true)\n",
        "\n",
        "    gradients_dis1 = tape_dis1.gradient(loss_dis1, discriminator.trainable_variables)\n",
        "    discriminator.optimizer.apply_gradients(grads_and_vars=zip(gradients_dis1, discriminator.trainable_variables))\n",
        "\n",
        "    discriminator.metrics[0].update_state(loss_dis1)\n",
        "\n",
        "    # train generator and discriminator on fake images\n",
        "    with tf.GradientTape() as tape_dis2:\n",
        "        with tf.GradientTape() as tape_gen:\n",
        "\n",
        "            # generate fake images and save them for visualization\n",
        "            gen_x = generator(noise, training) \n",
        "            gen_vis.append(gen_x) # for visualizing sample images\n",
        "\n",
        "            # let discriminator determine their status (real/fake)\n",
        "            pred_fake = discriminator(gen_x, training=training)\n",
        "\n",
        "            # compute losses for generator and discriminator\n",
        "            # using the opposite targets\n",
        "            loss_gen = generator.loss(gen_t_fake_data, pred_fake)\n",
        "            loss_dis2 = discriminator.loss(dis_t_fake_data, pred_fake)\n",
        "            #loss_dis = loss(tf.concat([dis_t_fake_data, gen_t_fake_data], 0), tf.concat([pred_fake, pred_true], 0))\n",
        "            \n",
        "    # backwards propagation for discriminator and generator\n",
        "    gradients_dis2 = tape_dis2.gradient(loss_dis2, discriminator.trainable_variables)\n",
        "    discriminator.optimizer.apply_gradients(grads_and_vars=zip(gradients_dis2, discriminator.trainable_variables))\n",
        "    gradients_gen = tape_gen.gradient(loss_gen, generator.trainable_variables)\n",
        "    generator.optimizer.apply_gradients(grads_and_vars=zip(gradients_gen, generator.trainable_variables))\n",
        "\n",
        "    # update loss metric\n",
        "    discriminator.metrics[0].update_state(loss_dis2)\n",
        "    generator.metrics[0].update_state(loss_gen)\n",
        "  \n",
        "    # Return a dictionary mapping metric names to current value\n",
        "    return ({m.name: m.result() for m in generator.metrics}, \n",
        "            {m.name: m.result() for m in discriminator.metrics}) "
      ]
    },
    {
      "cell_type": "code",
      "execution_count": 59,
      "metadata": {
        "id": "hUS2A0HRj1fZ"
      },
      "outputs": [],
      "source": [
        "def test_step(data, generator, discriminator):\n",
        "\n",
        "    noise = tf.random.normal([32,100]) # noise vector for generator\n",
        "    target_ones = tf.ones((32,1)) # targets for fake images for generator & real images for discriminator\n",
        "    target_zeros = tf.zeros((32,1)) # targets for fake images for discriminator\n",
        "\n",
        "    # real images in discriminator\n",
        "    pred_true = discriminator(data, training=False)\n",
        "    loss_dis1 = discriminator.loss(target_ones, pred_true)\n",
        "\n",
        "    discriminator.metrics[0].update_state(loss_dis1)\n",
        "\n",
        "    # generate fake images & put into discriminator\n",
        "    gen_x = generator(noise, training=False) \n",
        "    pred_fake = discriminator(gen_x, training=False)\n",
        "    loss_gen = generator.loss(target_ones, pred_fake)\n",
        "    loss_dis2 = discriminator.loss(target_zeros, pred_fake)\n",
        "\n",
        "    discriminator.metrics[0].update_state(loss_dis2)\n",
        "    generator.metrics[0].update_state(loss_gen)\n",
        "\n",
        "    return ({m.name: m.result() for m in generator.metrics}, \n",
        "            {m.name: m.result() for m in discriminator.metrics}) \n"
      ]
    },
    {
      "cell_type": "code",
      "execution_count": 60,
      "metadata": {
        "id": "4eVq8t3z-ixu"
      },
      "outputs": [],
      "source": [
        "import pprint\n",
        "import tqdm\n",
        "\n",
        "def training_loop(generator, discriminator, train_ds, val_ds, epochs):\n",
        "\n",
        "    # lists for storing the losses\n",
        "    train_losses_gen = []\n",
        "    train_losses_dis = []\n",
        "    val_losses_gen = []\n",
        "    val_losses_dis = []\n",
        "    \n",
        "    # list for storing the generated images during training\n",
        "    gen_vis = [] \n",
        "\n",
        "    for epoch in range(epochs):\n",
        "        print(f\"Epoch {epoch}:\")\n",
        "        \n",
        "        # Training:\n",
        "        for data in tqdm.tqdm(train_ds, position=0, leave=True):\n",
        "            metrics_gen, metrics_dis = train_step(generator, discriminator, data, gen_vis)\n",
        "\n",
        "        train_losses_gen.append(metrics_gen[\"loss\"])\n",
        "        train_losses_dis.append(metrics_dis[\"loss\"])\n",
        "\n",
        "        print([f\"train_{key}_gen: {value.numpy()}\" for (key, value) in metrics_gen.items()])\n",
        "        print([f\"train_{key}_dis: {value.numpy()}\" for (key, value) in metrics_dis.items()])\n",
        "\n",
        "        # reset all metrics (requires a reset_metrics method in the model)\n",
        "        generator.reset_metrics()    \n",
        "        discriminator.reset_metrics()\n",
        "        \n",
        "        # Validation:\n",
        "        for data in val_ds:\n",
        "            metrics_gen, metrics_dis = test_step(data, generator, discriminator)\n",
        "                    \n",
        "        val_losses_gen.append(metrics_gen[\"loss\"])\n",
        "        val_losses_dis.append(metrics_dis[\"loss\"])\n",
        "\n",
        "        print([f\"val_{key}_gen: {value.numpy()}\" for (key, value) in metrics_gen.items()])\n",
        "        print([f\"val_{key}_dis: {value.numpy()}\" for (key, value) in metrics_dis.items()])\n",
        "\n",
        "        # reset all metrics\n",
        "        generator.reset_metrics()\n",
        "        discriminator.reset_metrics()\n",
        "      \n",
        "    # Visualize accuracy and loss for training and test data\n",
        "    plt.figure()\n",
        "    line1, = plt.plot(train_losses_gen)\n",
        "    line2, = plt.plot(val_losses_gen)\n",
        "    line3, = plt.plot(train_losses_dis)\n",
        "    line4, = plt.plot(val_losses_dis)\n",
        "    plt.xlabel(\"Training steps\")\n",
        "    plt.ylabel(\"Loss\")\n",
        "    plt.legend((line1, line3, line2, line4),(\"train loss generator\", \"train loss discriminator\", \"val loss generator\", \"val los discriminator\"))\n",
        "    plt.show()\n",
        "\n",
        "    return gen_vis\n"
      ]
    },
    {
      "cell_type": "code",
      "execution_count": 64,
      "metadata": {
        "colab": {
          "base_uri": "https://localhost:8080/",
          "height": 1000
        },
        "id": "V7sqUEii-F06",
        "outputId": "e7492a9e-44dc-467a-f316-2cc36e4cefbe"
      },
      "outputs": [
        {
          "output_type": "stream",
          "name": "stdout",
          "text": [
            "Epoch 0:\n"
          ]
        },
        {
          "output_type": "stream",
          "name": "stderr",
          "text": [
            "100%|██████████| 938/938 [00:43<00:00, 21.39it/s]\n"
          ]
        },
        {
          "output_type": "stream",
          "name": "stdout",
          "text": [
            "['train_loss_gen: 4.66110897064209']\n",
            "['train_loss_dis: 0.10294860601425171']\n",
            "['val_loss_gen: 4.365732669830322']\n",
            "['val_loss_dis: 0.030719680711627007']\n",
            "Epoch 1:\n"
          ]
        },
        {
          "output_type": "stream",
          "name": "stderr",
          "text": [
            "100%|██████████| 938/938 [00:42<00:00, 21.91it/s]\n"
          ]
        },
        {
          "output_type": "stream",
          "name": "stdout",
          "text": [
            "['train_loss_gen: 5.339008331298828']\n",
            "['train_loss_dis: 0.04839061573147774']\n",
            "['val_loss_gen: 4.264639854431152']\n",
            "['val_loss_dis: 0.03613845258951187']\n",
            "Epoch 2:\n"
          ]
        },
        {
          "output_type": "stream",
          "name": "stderr",
          "text": [
            "100%|██████████| 938/938 [00:42<00:00, 21.93it/s]\n"
          ]
        },
        {
          "output_type": "stream",
          "name": "stdout",
          "text": [
            "['train_loss_gen: 5.756601810455322']\n",
            "['train_loss_dis: 0.03758780658245087']\n",
            "['val_loss_gen: 7.189287185668945']\n",
            "['val_loss_dis: 0.04862861707806587']\n",
            "Epoch 3:\n"
          ]
        },
        {
          "output_type": "stream",
          "name": "stderr",
          "text": [
            "100%|██████████| 938/938 [00:42<00:00, 22.11it/s]\n"
          ]
        },
        {
          "output_type": "stream",
          "name": "stdout",
          "text": [
            "['train_loss_gen: 6.190885066986084']\n",
            "['train_loss_dis: 0.031327929347753525']\n",
            "['val_loss_gen: 5.812351703643799']\n",
            "['val_loss_dis: 0.0487898588180542']\n",
            "Epoch 4:\n"
          ]
        },
        {
          "output_type": "stream",
          "name": "stderr",
          "text": [
            "100%|██████████| 938/938 [00:42<00:00, 21.83it/s]\n"
          ]
        },
        {
          "output_type": "stream",
          "name": "stdout",
          "text": [
            "['train_loss_gen: 6.615165710449219']\n",
            "['train_loss_dis: 0.027073824778199196']\n",
            "['val_loss_gen: 5.532400608062744']\n",
            "['val_loss_dis: 0.032801009714603424']\n",
            "Epoch 5:\n"
          ]
        },
        {
          "output_type": "stream",
          "name": "stderr",
          "text": [
            "100%|██████████| 938/938 [01:21<00:00, 11.45it/s]\n"
          ]
        },
        {
          "output_type": "stream",
          "name": "stdout",
          "text": [
            "['train_loss_gen: 6.499518871307373']\n",
            "['train_loss_dis: 0.029656752943992615']\n",
            "['val_loss_gen: 6.847315311431885']\n",
            "['val_loss_dis: 0.02698558196425438']\n",
            "Epoch 6:\n"
          ]
        },
        {
          "output_type": "stream",
          "name": "stderr",
          "text": [
            "100%|██████████| 938/938 [00:43<00:00, 21.51it/s]\n"
          ]
        },
        {
          "output_type": "stream",
          "name": "stdout",
          "text": [
            "['train_loss_gen: 6.221765995025635']\n",
            "['train_loss_dis: 0.030409619212150574']\n",
            "['val_loss_gen: 5.69751501083374']\n",
            "['val_loss_dis: 0.026956550776958466']\n",
            "Epoch 7:\n"
          ]
        },
        {
          "output_type": "stream",
          "name": "stderr",
          "text": [
            "100%|██████████| 938/938 [00:43<00:00, 21.69it/s]\n"
          ]
        },
        {
          "output_type": "stream",
          "name": "stdout",
          "text": [
            "['train_loss_gen: 6.277881145477295']\n",
            "['train_loss_dis: 0.03047848306596279']\n",
            "['val_loss_gen: 7.004406929016113']\n",
            "['val_loss_dis: 0.018946724012494087']\n",
            "Epoch 8:\n"
          ]
        },
        {
          "output_type": "stream",
          "name": "stderr",
          "text": [
            "100%|██████████| 938/938 [00:44<00:00, 21.25it/s]\n"
          ]
        },
        {
          "output_type": "stream",
          "name": "stdout",
          "text": [
            "['train_loss_gen: 6.145693302154541']\n",
            "['train_loss_dis: 0.029818132519721985']\n",
            "['val_loss_gen: 4.4503560066223145']\n",
            "['val_loss_dis: 0.034332770854234695']\n",
            "Epoch 9:\n"
          ]
        },
        {
          "output_type": "stream",
          "name": "stderr",
          "text": [
            "100%|██████████| 938/938 [00:43<00:00, 21.71it/s]\n"
          ]
        },
        {
          "output_type": "stream",
          "name": "stdout",
          "text": [
            "['train_loss_gen: 5.919600486755371']\n",
            "['train_loss_dis: 0.030085712671279907']\n",
            "['val_loss_gen: 5.6422858238220215']\n",
            "['val_loss_dis: 0.024330439046025276']\n",
            "Epoch 10:\n"
          ]
        },
        {
          "output_type": "stream",
          "name": "stderr",
          "text": [
            "100%|██████████| 938/938 [00:43<00:00, 21.74it/s]\n"
          ]
        },
        {
          "output_type": "stream",
          "name": "stdout",
          "text": [
            "['train_loss_gen: 5.826185703277588']\n",
            "['train_loss_dis: 0.033051747828722']\n",
            "['val_loss_gen: 5.439781665802002']\n",
            "['val_loss_dis: 0.029061036184430122']\n",
            "Epoch 11:\n"
          ]
        },
        {
          "output_type": "stream",
          "name": "stderr",
          "text": [
            "100%|██████████| 938/938 [00:43<00:00, 21.40it/s]\n"
          ]
        },
        {
          "output_type": "stream",
          "name": "stdout",
          "text": [
            "['train_loss_gen: 5.700944900512695']\n",
            "['train_loss_dis: 0.03287029638886452']\n",
            "['val_loss_gen: 4.333837985992432']\n",
            "['val_loss_dis: 0.02969483658671379']\n",
            "Epoch 12:\n"
          ]
        },
        {
          "output_type": "stream",
          "name": "stderr",
          "text": [
            "100%|██████████| 938/938 [00:43<00:00, 21.78it/s]\n"
          ]
        },
        {
          "output_type": "stream",
          "name": "stdout",
          "text": [
            "['train_loss_gen: 5.7880096435546875']\n",
            "['train_loss_dis: 0.03176815062761307']\n",
            "['val_loss_gen: 4.784341812133789']\n",
            "['val_loss_dis: 0.026081262156367302']\n",
            "Epoch 13:\n"
          ]
        },
        {
          "output_type": "stream",
          "name": "stderr",
          "text": [
            "100%|██████████| 938/938 [00:42<00:00, 21.90it/s]\n"
          ]
        },
        {
          "output_type": "stream",
          "name": "stdout",
          "text": [
            "['train_loss_gen: 5.957143783569336']\n",
            "['train_loss_dis: 0.029901418834924698']\n",
            "['val_loss_gen: 6.02460241317749']\n",
            "['val_loss_dis: 0.026441261172294617']\n",
            "Epoch 14:\n"
          ]
        },
        {
          "output_type": "stream",
          "name": "stderr",
          "text": [
            "100%|██████████| 938/938 [00:43<00:00, 21.66it/s]\n"
          ]
        },
        {
          "output_type": "stream",
          "name": "stdout",
          "text": [
            "['train_loss_gen: 6.081230640411377']\n",
            "['train_loss_dis: 0.029709920287132263']\n",
            "['val_loss_gen: 4.634822845458984']\n",
            "['val_loss_dis: 0.032294489443302155']\n"
          ]
        },
        {
          "output_type": "display_data",
          "data": {
            "text/plain": [
              "<Figure size 432x288 with 1 Axes>"
            ],
            "image/png": "[encoded data removed]"
          },
          "metadata": {
            "needs_background": "light"
          }
        }
      ],
      "source": [
        "discriminator = Discriminator()\n",
        "generator = Generator()\n",
        "loss = tf.keras.losses.BinaryCrossentropy()\n",
        "   \n",
        "epochs = 15\n",
        "\n",
        "gen_vis = training_loop(generator, discriminator, train_ds, test_ds, epochs)"
      ]
    },
    {
      "cell_type": "code",
      "execution_count": 70,
      "metadata": {
        "id": "9aVL9FHL2q5N"
      },
      "outputs": [],
      "source": [
        "# sample from the generated images\n",
        "images = []\n",
        "for i, batch in enumerate(gen_vis):\n",
        "    if i%math.ceil(len(gen_vis)/32) == 0:\n",
        "        images.append(tf.reshape(batch[0], [28,28]))"
      ]
    },
    {
      "cell_type": "code",
      "execution_count": 71,
      "metadata": {
        "id": "M3FYIus9_p7p",
        "colab": {
          "base_uri": "https://localhost:8080/",
          "height": 281
        },
        "outputId": "c5835ebe-4d8f-4084-a4ce-4f389e294ce1"
      },
      "outputs": [
        {
          "output_type": "display_data",
          "data": {
            "text/plain": [
              "<Figure size 432x288 with 32 Axes>"
            ],
            "image/png": "[encoded data removed]"
          },
          "metadata": {
            "needs_background": "light"
          }
        }
      ],
      "source": [
        "# plot the sampled images from training\n",
        "for i in range(len(images)):\n",
        "    plt.subplot(5,7,i+1)\n",
        "    plt.imshow(images[i])\n",
        "    plt.gca().get_xaxis().set_visible(False)\n",
        "    plt.gca().get_yaxis().set_visible(False)\n",
        "plt.suptitle(\"evolution of output of generator while training\")\n",
        "plt.show()"
      ]
    }
  ],
  "metadata": {
    "accelerator": "GPU",
    "colab": {
      "provenance": []
    },
    "gpuClass": "standard",
    "kernelspec": {
      "display_name": "Python 3",
      "name": "python3"
    },
    "language_info": {
      "name": "python"
    }
  },
  "nbformat": 4,
  "nbformat_minor": 0
}