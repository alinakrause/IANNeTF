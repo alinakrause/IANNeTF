{
  "cells": [
    {
      "cell_type": "markdown",
      "source": [
        "# Homework 10 - Group 14\n",
        "\n",
        "The following code takes an English translation of the bible. It tokenizes the words and filters out punctuation and stop words (commonly occuring words that don't add much meaning). The tokens are used to train a skipgram model that uses negative sampling (with randomly chosen words) for training. The training progress is shown through a graph and tables with example words and their assigned 5 nearest neighbors during different states of the training."
      ],
      "metadata": {
        "id": "gEkErGVLjBvA"
      }
    },
    {
      "cell_type": "markdown",
      "source": [
        "# 2.1 The Dataset\n",
        "The text file of the bible is taken from a connected drive and as an example to validate that it worked as intended, the first 200 characters are printed."
      ],
      "metadata": {
        "id": "tughda48muoG"
      }
    },
    {
      "cell_type": "code",
      "execution_count": null,
      "metadata": {
        "colab": {
          "base_uri": "https://localhost:8080/"
        },
        "id": "Zh0EuKnkdLNX",
        "outputId": "0a40d04c-3ac8-4915-971e-1d23a673a161"
      },
      "outputs": [
        {
          "output_type": "stream",
          "name": "stdout",
          "text": [
            "Mounted at /content/drive\n",
            "Total Characters:  4332496\n",
            "First 200 Characters:\n",
            "The First Book of Moses:  Called Genesis\n",
            "\n",
            "\n",
            "1:1 In the beginning God created the heaven and the earth.\n",
            "\n",
            "1:2 And the earth was without form, and void; and darkness was upon\n",
            "the face of the deep. And the\n"
          ]
        }
      ],
      "source": [
        "import os\n",
        "from google.colab import drive\n",
        "\n",
        "#load data by mounting to drive\n",
        "\n",
        "drive.mount(\"/content/drive\")\n",
        "os.chdir(\"drive/MyDrive\")\n",
        "\n",
        "# read txt file\n",
        "f = open(\"bible.txt\", \"r\")\n",
        "bible = f.read()\n",
        "\n",
        "print(\"Total Characters: \", len(bible))\n",
        "print(\"First 200 Characters:\\n\" + bible[:200])"
      ]
    },
    {
      "cell_type": "markdown",
      "source": [
        "# 2.2 Word Embeddings\n",
        "A tokenizer is created that first learns a vocabulary from the bible list and then translates the bible list into a list of corresponding tokens. The tokenizer already filters out punctuation. Stop-words were taken out to make the data more meaningful. To reduce the data set further, subsampling was applied to filter out some of the most common words. Finally, context-target wordpairs are created. To utilize negative subsampling during training, for each positive sample that is created, the are five negative samples created. The pairs are matched with a corresponding label - 1 for true and 0 for false.\n"
      ],
      "metadata": {
        "id": "vY_fBst9mJEm"
      }
    },
    {
      "cell_type": "code",
      "execution_count": null,
      "metadata": {
        "colab": {
          "base_uri": "https://localhost:8080/"
        },
        "id": "2BjxJrt2vQc-",
        "outputId": "174108eb-6079-4efe-b9c2-3d5253c777a9"
      },
      "outputs": [
        {
          "output_type": "stream",
          "name": "stdout",
          "text": [
            "Total number of Tokens: 426142\n",
            "Vocabulary size: 9000\n",
            "First 10 Token integers: [1, 249, 360, 3, 105, 192, 6020, 67, 67, 5]\n"
          ]
        }
      ],
      "source": [
        "import tensorflow as tf\n",
        "import numpy as np\n",
        "\n",
        "vocabulary_size = 10000\n",
        "\n",
        "# Tokenize the text\n",
        "# automatically converts to lowercase and removes new lines and special characters\n",
        "tokenizer = tf.keras.preprocessing.text.Tokenizer(num_words=vocabulary_size) \n",
        "tokenizer.fit_on_texts([bible])\n",
        "tokens = tokenizer.texts_to_sequences([bible])[0]\n",
        "\n",
        "n_tokens = len(tokens)\n",
        "\n",
        "\n",
        "# store relative frequencies of tokens at respective index (e.g. token_frequencies[1] = frequency of token with integer=1)\n",
        "# for subsampling and negative sampling\n",
        "token_frequencies = [0]\n",
        "for word, token in tokenizer.word_index.items():\n",
        "    # get number of occurences for each token\n",
        "    frequency = tokenizer.word_counts.get(word)\n",
        "    token_frequencies.append(frequency)\n",
        "# divide by sum of all occurences\n",
        "token_frequencies = token_frequencies / np.sum(token_frequencies)\n",
        "\n",
        "\n",
        "print(\"Total number of Tokens:\", n_tokens)\n",
        "print(\"Vocabulary size:\", vocabulary_size)\n",
        "print(\"First 10 Token integers:\", tokens[:10])"
      ]
    },
    {
      "cell_type": "code",
      "execution_count": null,
      "metadata": {
        "colab": {
          "base_uri": "https://localhost:8080/"
        },
        "id": "NcGhofIdMD8k",
        "outputId": "cb589999-fc96-4b4e-edf1-78b63c07fd84"
      },
      "outputs": [
        {
          "output_type": "stream",
          "name": "stdout",
          "text": [
            "Total number of Tokens: 169595\n",
            "First 10 Token integers after filtering: [360, 105, 192, 6020, 67, 67, 29, 1980, 277, 163]\n"
          ]
        }
      ],
      "source": [
        "# removing stop words to reduce dataset and make it more expressive\n",
        "# (commonly occuring words that don't carry much meaning)\n",
        "\n",
        "# translate list of stop words into tokens\n",
        "stop_words = '''\"0o\", \"0s\", \"3a\", \"3b\", \"3d\", \"6b\", \"6o\", \"a\", \"a1\", \"a2\", \"a3\", \"a4\", \"ab\", \"able\", \"about\", \"above\", \"abst\", \"ac\", \"accordance\", \"according\", \"accordingly\", \"across\", \"act\", \"actually\", \"ad\", \"added\", \"adj\", \"ae\", \"af\", \"affected\", \"affecting\", \"affects\", \"after\", \"afterwards\", \"ag\", \"again\", \"against\", \"ah\", \"ain\", \"ain't\", \"aj\", \"al\", \"all\", \"allow\", \"allows\", \"almost\", \"alone\", \"along\", \"already\", \"also\", \"although\", \"always\", \"am\", \"among\", \"amongst\", \"amoungst\", \"amount\", \"an\", \"and\", \"announce\", \"another\", \"any\", \"anybody\", \"anyhow\", \"anymore\", \"anyone\", \"anything\", \"anyway\", \"anyways\", \"anywhere\", \"ao\", \"ap\", \"apart\", \"apparently\", \"appear\", \"appreciate\", \"appropriate\", \"approximately\", \"ar\", \"are\", \"aren\", \"arent\", \"aren't\", \"arise\", \"around\", \"as\", \"a's\", \"aside\", \"ask\", \"asking\", \"associated\", \"at\", \"au\", \"auth\", \"av\", \"available\", \"aw\", \"away\", \"awfully\", \"ax\", \"ay\", \"az\", \"b\", \"b1\", \"b2\", \"b3\", \"ba\", \"back\", \"bc\", \"bd\", \"be\", \"became\", \"because\", \"become\", \"becomes\", \"becoming\", \"been\", \"before\", \"beforehand\", \"begin\", \"beginning\", \"beginnings\", \"begins\", \"behind\", \"being\", \"believe\", \"below\", \"beside\", \"besides\", \"best\", \"better\", \"between\", \"beyond\", \"bi\", \"bill\", \"biol\", \"bj\", \"bk\", \"bl\", \"bn\", \"both\", \"bottom\", \"bp\", \"br\", \"brief\", \"briefly\", \"bs\", \"bt\", \"bu\", \"but\", \"bx\", \"by\", \"c\", \"c1\", \"c2\", \"c3\", \"ca\", \"call\", \"came\", \"can\", \"cannot\", \"cant\", \"can't\", \"cause\", \"causes\", \"cc\", \"cd\", \"ce\", \"certain\", \"certainly\", \"cf\", \"cg\", \"ch\", \"changes\", \"ci\", \"cit\", \"cj\", \"cl\", \"clearly\", \"cm\", \"c'mon\", \"cn\", \"co\", \"com\", \"come\", \"comes\", \"con\", \"concerning\", \"consequently\", \"consider\", \"considering\", \"contain\", \"containing\", \"contains\", \"corresponding\", \"could\", \"couldn\", \"couldnt\", \"couldn't\", \"course\", \"cp\", \"cq\", \"cr\", \"cry\", \"cs\", \"c's\", \"ct\", \"cu\", \"currently\", \"cv\", \"cx\", \"cy\", \"cz\", \"d\", \"d2\", \"da\", \"date\", \"dc\", \"dd\", \"de\", \"definitely\", \"describe\", \"described\", \"despite\", \"detail\", \"df\", \"di\", \"did\", \"didn\", \"didn't\", \"different\", \"dj\", \"dk\", \"dl\", \"do\", \"does\", \"doesn\", \"doesn't\", \"doing\", \"don\", \"done\", \"don't\", \"down\", \"downwards\", \"dp\", \"dr\", \"ds\", \"dt\", \"du\", \"due\", \"during\", \"dx\", \"dy\", \"e\", \"e2\", \"e3\", \"ea\", \"each\", \"ec\", \"ed\", \"edu\", \"ee\", \"ef\", \"effect\", \"eg\", \"ei\", \"eight\", \"eighty\", \"either\", \"ej\", \"el\", \"eleven\", \"else\", \"elsewhere\", \"em\", \"empty\", \"en\", \"end\", \"ending\", \"enough\", \"entirely\", \"eo\", \"ep\", \"eq\", \"er\", \"es\", \"especially\", \"est\", \"et\", \"et-al\", \"etc\", \"eu\", \"ev\", \"even\", \"ever\", \"every\", \"everybody\", \"everyone\", \"everything\", \"everywhere\", \"ex\", \"exactly\", \"example\", \"except\", \"ey\", \"f\", \"f2\", \"fa\", \"far\", \"fc\", \"few\", \"ff\", \"fi\", \"fifteen\", \"fifth\", \"fify\", \"fill\", \"find\", \"fire\", \"first\", \"five\", \"fix\", \"fj\", \"fl\", \"fn\", \"fo\", \"followed\", \"following\", \"follows\", \"for\", \"former\", \"formerly\", \"forth\", \"forty\", \"found\", \"four\", \"fr\", \"from\", \"front\", \"fs\", \"ft\", \"fu\", \"full\", \"further\", \"furthermore\", \"fy\", \"g\", \"ga\", \"gave\", \"ge\", \"get\", \"gets\", \"getting\", \"gi\", \"give\", \"given\", \"gives\", \"giving\", \"gj\", \"gl\", \"go\", \"goes\", \"going\", \"gone\", \"got\", \"gotten\", \"gr\", \"greetings\", \"gs\", \"gy\", \"h\", \"h2\", \"h3\", \"had\", \"hadn\", \"hadn't\", \"happens\", \"hardly\", \"has\", \"hasn\", \"hasnt\", \"hasn't\", \"have\", \"haven\", \"haven't\", \"having\", \"he\", \"hed\", \"he'd\", \"he'll\", \"hello\", \"help\", \"hence\", \"her\", \"here\", \"hereafter\", \"hereby\", \"herein\", \"heres\", \"here's\", \"hereupon\", \"hers\", \"herself\", \"hes\", \"he's\", \"hh\", \"hi\", \"hid\", \"him\", \"himself\", \"his\", \"hither\", \"hj\", \"ho\", \"home\", \"hopefully\", \"how\", \"howbeit\", \"however\", \"how's\", \"hr\", \"hs\", \"http\", \"hu\", \"hundred\", \"hy\", \"i\", \"i2\", \"i3\", \"i4\", \"i6\", \"i7\", \"i8\", \"ia\", \"ib\", \"ibid\", \"ic\", \"id\", \"i'd\", \"ie\", \"if\", \"ig\", \"ignored\", \"ih\", \"ii\", \"ij\", \"il\", \"i'll\", \"im\", \"i'm\", \"immediate\", \"immediately\", \"importance\", \"important\", \"in\", \"inasmuch\", \"inc\", \"indeed\", \"index\", \"indicate\", \"indicated\", \"indicates\", \"information\", \"inner\", \"insofar\", \"instead\", \"interest\", \"into\", \"invention\", \"inward\", \"io\", \"ip\", \"iq\", \"ir\", \"is\", \"isn\", \"isn't\", \"it\", \"itd\", \"it'd\", \"it'll\", \"its\", \"it's\", \"itself\", \"iv\", \"i've\", \"ix\", \"iy\", \"iz\", \"j\", \"jj\", \"jr\", \"js\", \"jt\", \"ju\", \"just\", \"k\", \"ke\", \"keep\", \"keeps\", \"kept\", \"kg\", \"kj\", \"km\", \"know\", \"known\", \"knows\", \"ko\", \"l\", \"l2\", \"la\", \"largely\", \"last\", \"lately\", \"later\", \"latter\", \"latterly\", \"lb\", \"lc\", \"le\", \"least\", \"les\", \"less\", \"lest\", \"let\", \"lets\", \"let's\", \"lf\", \"like\", \"liked\", \"likely\", \"line\", \"little\", \"lj\", \"ll\", \"ll\", \"ln\", \"lo\", \"look\", \"looking\", \"looks\", \"los\", \"lr\", \"ls\", \"lt\", \"ltd\", \"m\", \"m2\", \"ma\", \"made\", \"mainly\", \"make\", \"makes\", \"many\", \"may\", \"maybe\", \"me\", \"mean\", \"means\", \"meantime\", \"meanwhile\", \"merely\", \"mg\", \"might\", \"mightn\", \"mightn't\", \"mill\", \"million\", \"mine\", \"miss\", \"ml\", \"mn\", \"mo\", \"more\", \"moreover\", \"most\", \"mostly\", \"move\", \"mr\", \"mrs\", \"ms\", \"mt\", \"mu\", \"much\", \"mug\", \"must\", \"mustn\", \"mustn't\", \"my\", \"myself\", \"n\", \"n2\", \"na\", \"name\", \"namely\", \"nay\", \"nc\", \"nd\", \"ne\", \"near\", \"nearly\", \"necessarily\", \"necessary\", \"need\", \"needn\", \"needn't\", \"needs\", \"neither\", \"never\", \"nevertheless\", \"new\", \"next\", \"ng\", \"ni\", \"nine\", \"ninety\", \"nj\", \"nl\", \"nn\", \"no\", \"nobody\", \"non\", \"none\", \"nonetheless\", \"noone\", \"nor\", \"normally\", \"nos\", \"not\", \"noted\", \"nothing\", \"novel\", \"now\", \"nowhere\", \"nr\", \"ns\", \"nt\", \"ny\", \"o\", \"oa\", \"ob\", \"obtain\", \"obtained\", \"obviously\", \"oc\", \"od\", \"of\", \"off\", \"often\", \"og\", \"oh\", \"oi\", \"oj\", \"ok\", \"okay\", \"ol\", \"old\", \"om\", \"omitted\", \"on\", \"once\", \"one\", \"ones\", \"only\", \"onto\", \"oo\", \"op\", \"oq\", \"or\", \"ord\", \"os\", \"ot\", \"other\", \"others\", \"otherwise\", \"ou\", \"ought\", \"our\", \"ours\", \"ourselves\", \"out\", \"outside\", \"over\", \"overall\", \"ow\", \"owing\", \"own\", \"ox\", \"oz\", \"p\", \"p1\", \"p2\", \"p3\", \"page\", \"pagecount\", \"pages\", \"par\", \"part\", \"particular\", \"particularly\", \"pas\", \"past\", \"pc\", \"pd\", \"pe\", \"per\", \"perhaps\", \"pf\", \"ph\", \"pi\", \"pj\", \"pk\", \"pl\", \"placed\", \"please\", \"plus\", \"pm\", \"pn\", \"po\", \"poorly\", \"possible\", \"possibly\", \"potentially\", \"pp\", \"pq\", \"pr\", \"predominantly\", \"present\", \"presumably\", \"previously\", \"primarily\", \"probably\", \"promptly\", \"proud\", \"provides\", \"ps\", \"pt\", \"pu\", \"put\", \"py\", \"q\", \"qj\", \"qu\", \"que\", \"quickly\", \"quite\", \"qv\", \"r\", \"r2\", \"ra\", \"ran\", \"rather\", \"rc\", \"rd\", \"re\", \"readily\", \"really\", \"reasonably\", \"recent\", \"recently\", \"ref\", \"refs\", \"regarding\", \"regardless\", \"regards\", \"related\", \"relatively\", \"research\", \"research-articl\", \"respectively\", \"resulted\", \"resulting\", \"results\", \"rf\", \"rh\", \"ri\", \"right\", \"rj\", \"rl\", \"rm\", \"rn\", \"ro\", \"rq\", \"rr\", \"rs\", \"rt\", \"ru\", \"run\", \"rv\", \"ry\", \"s\", \"s2\", \"sa\", \"said\", \"same\", \"saw\", \"say\", \"saying\", \"says\", \"sc\", \"sd\", \"se\", \"sec\", \"second\", \"secondly\", \"section\", \"see\", \"seeing\", \"seem\", \"seemed\", \"seeming\", \"seems\", \"seen\", \"self\", \"selves\", \"sensible\", \"sent\", \"serious\", \"seriously\", \"seven\", \"several\", \"sf\", \"shall\", \"shan\", \"shan't\", \"she\", \"shed\", \"she'd\", \"she'll\", \"shes\", \"she's\", \"should\", \"shouldn\", \"shouldn't\", \"should've\", \"show\", \"showed\", \"shown\", \"showns\", \"shows\", \"si\", \"side\", \"significant\", \"significantly\", \"similar\", \"similarly\", \"since\", \"sincere\", \"six\", \"sixty\", \"sj\", \"sl\", \"slightly\", \"sm\", \"sn\", \"so\", \"some\", \"somebody\", \"somehow\", \"someone\", \"somethan\", \"something\", \"sometime\", \"sometimes\", \"somewhat\", \"somewhere\", \"soon\", \"sorry\", \"sp\", \"specifically\", \"specified\", \"specify\", \"specifying\", \"sq\", \"sr\", \"ss\", \"st\", \"still\", \"stop\", \"strongly\", \"sub\", \"substantially\", \"successfully\", \"such\", \"sufficiently\", \"suggest\", \"sup\", \"sure\", \"sy\", \"system\", \"sz\", \"t\", \"t1\", \"t2\", \"t3\", \"take\", \"taken\", \"taking\", \"tb\", \"tc\", \"td\", \"te\", \"tell\", \"ten\", \"tends\", \"tf\", \"th\", \"than\", \"thank\", \"thanks\", \"thanx\", \"that\", \"that'll\", \"thats\", \"that's\", \"that've\", \"the\", \"their\", \"theirs\", \"them\", \"themselves\", \"then\", \"thence\", \"there\", \"thereafter\", \"thereby\", \"thered\", \"therefore\", \"therein\", \"there'll\", \"thereof\", \"therere\", \"theres\", \"there's\", \"thereto\", \"thereupon\", \"there've\", \"these\", \"they\", \"theyd\", \"they'd\", \"they'll\", \"theyre\", \"they're\", \"they've\", \"thickv\", \"thin\", \"think\", \"third\", \"this\", \"thorough\", \"thoroughly\", \"those\", \"thou\", \"though\", \"thoughh\", \"thousand\", \"three\", \"throug\", \"through\", \"throughout\", \"thru\", \"thus\", \"ti\", \"til\", \"tip\", \"tj\", \"tl\", \"tm\", \"tn\", \"to\", \"together\", \"too\", \"took\", \"top\", \"toward\", \"towards\", \"tp\", \"tq\", \"tr\", \"tried\", \"tries\", \"truly\", \"try\", \"trying\", \"ts\", \"t's\", \"tt\", \"tv\", \"twelve\", \"twenty\", \"twice\", \"two\", \"tx\", \"u\", \"u201d\", \"ue\", \"ui\", \"uj\", \"uk\", \"um\", \"un\", \"under\", \"unfortunately\", \"unless\", \"unlike\", \"unlikely\", \"until\", \"unto\", \"uo\", \"up\", \"upon\", \"ups\", \"ur\", \"us\", \"use\", \"used\", \"useful\", \"usefully\", \"usefulness\", \"uses\", \"using\", \"usually\", \"ut\", \"v\", \"va\", \"value\", \"various\", \"vd\", \"ve\", \"ve\", \"very\", \"via\", \"viz\", \"vj\", \"vo\", \"vol\", \"vols\", \"volumtype\", \"vq\", \"vs\", \"vt\", \"vu\", \"w\", \"wa\", \"want\", \"wants\", \"was\", \"wasn\", \"wasnt\", \"wasn't\", \"way\", \"we\", \"wed\", \"we'd\", \"welcome\", \"well\", \"we'll\", \"well-b\", \"went\", \"were\", \"we're\", \"weren\", \"werent\", \"weren't\", \"we've\", \"what\", \"whatever\", \"what'll\", \"whats\", \"what's\", \"when\", \"whence\", \"whenever\", \"when's\", \"where\", \"whereafter\", \"whereas\", \"whereby\", \"wherein\", \"wheres\", \"where's\", \"whereupon\", \"wherever\", \"whether\", \"which\", \"while\", \"whim\", \"whither\", \"who\", \"whod\", \"whoever\", \"whole\", \"who'll\", \"whom\", \"whomever\", \"whos\", \"who's\", \"whose\", \"why\", \"why's\", \"wi\", \"widely\", \"will\", \"willing\", \"wish\", \"with\", \"within\", \"without\", \"wo\", \"won\", \"wonder\", \"wont\", \"won't\", \"words\", \"world\", \"would\", \"wouldn\", \"wouldnt\", \"wouldn't\", \"www\", \"x\", \"x1\", \"x2\", \"x3\", \"xf\", \"xi\", \"xj\", \"xk\", \"xl\", \"xn\", \"xo\", \"xs\", \"xt\", \"xv\", \"xx\", \"y\", \"y2\", \"yes\", \"yet\", \"yj\", \"yl\", \"you\", \"youd\", \"you'd\", \"you'll\", \"your\", \"youre\", \"you're\", \"yours\", \"yourself\", \"yourselves\", \"you've\", \"yr\", \"ys\", \"yt\", \"z\", \"zero\", \"zi\", \"zz\"'''\n",
        "stop = ''.join(letter for letter in str(stop_words) if letter not in '\",')\n",
        "stop_tokens = tokenizer.texts_to_sequences([stop_words])[0]\n",
        "\n",
        "# filter bible tokens for stop words\n",
        "tokens = [token for token in tokens if token not in stop_tokens]\n",
        "n_tokens = len(tokens)\n",
        "\n",
        "print(\"Total number of Tokens:\", n_tokens)\n",
        "print(\"First 10 Token integers after filtering:\", tokens[:10])"
      ]
    },
    {
      "cell_type": "code",
      "execution_count": null,
      "metadata": {
        "colab": {
          "base_uri": "https://localhost:8080/"
        },
        "id": "quCD7EprJ2Ta",
        "outputId": "f6f65d9e-8e2e-49d3-ddf2-233fce6cf1e7"
      },
      "outputs": [
        {
          "output_type": "stream",
          "name": "stdout",
          "text": [
            "Total number of Tokens: 162761\n",
            "First 10 Token integers after filtering: [360, 105, 192, 6020, 67, 67, 29, 1980, 277, 163]\n"
          ]
        }
      ],
      "source": [
        "# compute probability with which a token is kept in the dataset\n",
        "def token_probability(token, token_frequencies, scale=0.001):\n",
        "    \"\"\"Calculates the probability that a token is removed from the dataset based on its frequency in the text.\n",
        "\n",
        "    Args:\n",
        "        token(int): number that is assigned to represent the word\n",
        "        token_frequencies(list): list with the relative frequencies of all tokens at respective index\n",
        "        scale(float): constant, that controls how likely it is that a word is kept\n",
        "\n",
        "    Returns:\n",
        "        Probability that input token is kept in vocabulary\n",
        "\n",
        "    \"\"\"\n",
        "    # calculate relative frequency of token occuring in the text\n",
        "    token_frequency = token_frequencies[token]\n",
        "    # probability formula\n",
        "    probability = (np.sqrt(token_frequency / scale) + 1) * (scale / token_frequency)\n",
        "\n",
        "    return probability\n",
        "\n",
        "\n",
        "# subsampling: remove frequent tokens by certain probability\n",
        "s = 0.001\n",
        "tokens = [token for token in tokens if np.random.uniform(0, 1) < token_probability(token, token_frequencies, scale=s)]\n",
        "n_tokens = len(tokens)\n",
        "\n",
        "print(\"Total number of Tokens:\", n_tokens)\n",
        "print(\"First 10 Token integers after filtering:\", tokens[:10])"
      ]
    },
    {
      "cell_type": "code",
      "execution_count": null,
      "metadata": {
        "colab": {
          "base_uri": "https://localhost:8080/"
        },
        "id": "7lrcUM1EnQkS",
        "outputId": "85cb08ec-df7f-4baa-ccb2-0ebb643e7ce0"
      },
      "outputs": [
        {
          "output_type": "stream",
          "name": "stdout",
          "text": [
            "Total number of Pairs: 2604152\n",
            "Example input-target pair: [62, 7458] with Label: 0\n"
          ]
        }
      ],
      "source": [
        "# Generate target-context pairs\n",
        "# performs negative sampling \n",
        "# for each positive pair sample 3 negative pairs\n",
        "pairs, labels = tf.keras.preprocessing.sequence.skipgrams(sequence=tokens, \n",
        "                                                          vocabulary_size=vocabulary_size, \n",
        "                                                          window_size=2,\n",
        "                                                          negative_samples=3 # ratio of negative compared to positive samples\n",
        "                                                          )\n",
        "\n",
        "print(\"Total number of Pairs:\", len(pairs))\n",
        "print(\"Example input-target pair:\", pairs[0], \"with Label:\", labels[0])"
      ]
    },
    {
      "cell_type": "markdown",
      "source": [
        "# 2.3 The Model\n",
        "A SkipGram NN-Model is implemented with an embedding layer, a flatten layer and a dense output layer. The model predicts whether the presented pair is true or false."
      ],
      "metadata": {
        "id": "xveVTjefoqJZ"
      }
    },
    {
      "cell_type": "code",
      "execution_count": null,
      "metadata": {
        "id": "LBOwzRdxGheF"
      },
      "outputs": [],
      "source": [
        "# SkipGram NN model\n",
        "class SkipGram(tf.keras.Model):\n",
        "    \"\"\"Subclass of tf.keras.Model that is trained to determine if a context, target token pair is positive or negative.\n",
        "\n",
        "    Args:\n",
        "        tf.keras.Model\n",
        "\n",
        "    \"\"\"\n",
        "    def __init__(self, embedding_units=64):\n",
        "        \"\"\"Initializes an embedding, a flatten and a dense layer for the model\n",
        "\n",
        "        Args:\n",
        "            embedding_units(int): size of the embedding\n",
        "\n",
        "        \"\"\"\n",
        "        super().__init__()\n",
        "\n",
        "        self.embedding_units = embedding_units\n",
        "        regularizer = tf.keras.regularizers.L2() \n",
        "\n",
        "        # two main layers: embedding and dense output layer (+ in between flatten)\n",
        "        self.embedding = tf.keras.layers.Embedding(input_dim=vocabulary_size,\n",
        "                                                   output_dim=embedding_units,\n",
        "                                                   input_length=2,\n",
        "                                                   input_shape=(2,),\n",
        "                                                   embeddings_regularizer=regularizer\n",
        "                                                   )\n",
        "        self.flatten = tf.keras.layers.Flatten()\n",
        "        self.out = tf.keras.layers.Dense(units=1, activation='sigmoid')\n",
        "\n",
        "\n",
        "    @tf.function\n",
        "    def call(self, x):\n",
        "        \"\"\"Passes input x through all the layers of the model.\n",
        "\n",
        "        Args:\n",
        "            self = this instance of the class\n",
        "            x (tuple of ints): context, target token pair\n",
        "\n",
        "        Returns:\n",
        "            prediction of the model \n",
        "\n",
        "        \"\"\"\n",
        "\n",
        "        x = self.embedding(x)\n",
        "        x = self.flatten(x)\n",
        "        x = self.out(x)\n",
        "\n",
        "        return x"
      ]
    },
    {
      "cell_type": "markdown",
      "source": [
        "# 2.4 Training\n",
        "A tracker for the nearest neighbors is implemented. The accuracy and loss for training and testing data are visualized and tables are printed which show the training process for 8 tracking words. Since most training seems to happen in the first epoch, there are tables printed after each 5000 batches."
      ],
      "metadata": {
        "id": "rnOB4WffqCbP"
      }
    },
    {
      "cell_type": "code",
      "execution_count": null,
      "metadata": {
        "id": "78yLmZkJFpcc"
      },
      "outputs": [],
      "source": [
        "from sklearn.metrics.pairwise import cosine_similarity\n",
        "\n",
        "# class for function called at end of each epoch\n",
        "# tracking the k-nearest words of tracking words during training\n",
        "class TrackingNeighbors(tf.keras.callbacks.Callback):\n",
        "    \"\"\"The class provides functions to track the k-nearest neighbors of a token. Is a subclass of tf.keras.callbacks.Callback.\n",
        "\n",
        "    Args:\n",
        "         tf.keras.callbacks.Callback\n",
        "\n",
        "    \"\"\"\n",
        "\n",
        "    def __init__(self, model, tracking_words, tokenizer, k=5):\n",
        "        \"\"\"Creates a dictionary for each word that is to be tracked.\n",
        "\n",
        "        Args:\n",
        "            self: this instance of the class\n",
        "            model(SkipGram): SkipGram Model that is being trained\n",
        "            tracking_words(list of strings): words to keep track of during training\n",
        "            tokenizer(tf.keras.preprocessing.text.Tokenizer): object that creates tokens out of strings\n",
        "            k(int): number of neighbors to return for each tracked word\n",
        "\n",
        "        Returns:\n",
        "            prediction of the model \n",
        "\n",
        "        \"\"\"\n",
        "        super().__init__()\n",
        "        \n",
        "        self.model = model\n",
        "        self.k = k\n",
        "        self.tracking_words = tracking_words\n",
        "\n",
        "        # dictionaries where neighbors of all tracking words get appended\n",
        "        # one for every epoch\n",
        "        self.neighbors_dict_epochs = {}\n",
        "        for word in tracking_words:\n",
        "            self.neighbors_dict_epochs[word] = [] # keys = tracking words\n",
        "        \n",
        "        # and one for intermediate samples during the first epoch\n",
        "        self.neighbors_dict_batches = {}\n",
        "        for word in tracking_words:\n",
        "            self.neighbors_dict_batches[word] = []\n",
        "\n",
        "        # for sampling batches of the first epoch\n",
        "        self.batch_counter = 0\n",
        "        self.epoch1 = True\n",
        "        \n",
        "\n",
        "    # called at end of each batch during training\n",
        "    def on_train_batch_end(self, batch, logs=None):\n",
        "        \"\"\"Counts up a timer during the first epoch and calls tracking_neighbors after each 5000 batches\n",
        "\n",
        "        Args:\n",
        "            self: this instance of the class\n",
        "            batch(bool): indicates if we are at the end of a batch\n",
        "            logs(None)\n",
        "\n",
        "        \"\"\"\n",
        "        if self.epoch1:\n",
        "            if self.batch_counter%7000 == 0:\n",
        "                self.tracking_neighbors(self.model, batch=True)\n",
        "            self.batch_counter += 1\n",
        "        \n",
        "\n",
        "    # called at end of each epoch\n",
        "    def on_epoch_end(self, epoch, logs=None):\n",
        "        \"\"\"After each epoch calls tracking_neighbors\n",
        "\n",
        "        Args:\n",
        "            self: this instance of the class\n",
        "            epoch(int): current epoch\n",
        "            logs(None)\n",
        "\n",
        "        \"\"\"\n",
        "        self.tracking_neighbors(self.model, batch=False)\n",
        "        self.epoch1 = False # so that only in first epoch intermediate batches are sampled\n",
        "\n",
        "\n",
        "    def cosine_similarities(self, token, embeddings, embedding_units):\n",
        "        \"\"\"Calculates the cosine similarity of a word embedding to the other embeddings and returns the k nearest tokens\n",
        "\n",
        "        Args:\n",
        "            self: this instance of the class\n",
        "            token(int): an integer representing one word of the vocabulary \n",
        "            embeddings(nested list): list of all embeddings \n",
        "            embedding_units(list)\n",
        "        \n",
        "        Returns:\n",
        "            k nearest tokens\n",
        "\n",
        "        \"\"\"\n",
        "\n",
        "        # get embedding of specific token\n",
        "        word_embedding = embeddings[token].reshape(1,embedding_units)\n",
        "\n",
        "        # compute cosine similarity\n",
        "        cosine_similarities = cosine_similarity(embeddings, word_embedding).tolist()\n",
        "\n",
        "        # get the index of the k nearest embeddings (without the tracked token itself)\n",
        "        # index = corresponding token (as integer not word)\n",
        "        k_nearest_tokens = sorted(range(len(cosine_similarities)), key = lambda sub: cosine_similarities[sub])[-(self.k+1):-1]\n",
        "      \n",
        "        return k_nearest_tokens\n",
        "\n",
        "\n",
        "    def tracking_neighbors(self, model, batch):\n",
        "        \"\"\"Calculates the nearest neighbors of each token in the list of words to track.\n",
        "\n",
        "        Args:\n",
        "            self: this instance of the class\n",
        "            model(SkipGram): SkipGram Model that is being trained\n",
        "            batch(bool): indicates if we are at the end of a batch\n",
        "\n",
        "        \"\"\"\n",
        "\n",
        "        # retrieve the embeddings\n",
        "        embeddings = self.model.embedding.get_weights()[0]\n",
        "        embedding_units = self.model.embedding_units\n",
        "\n",
        "        # for token get nearest neighbors and append to dictionary under right key\n",
        "        for i, word in enumerate(self.tracking_words):\n",
        "\n",
        "            # translate word into token\n",
        "            token = tokenizer.word_index.get(word)\n",
        "            # get 'neighbor' tokens\n",
        "            nearest_tokens = self.cosine_similarities(token, embeddings, embedding_units)\n",
        "            # translate tokens back into words and reverse the list (so that closest is at first)\n",
        "            nearest_neighbors = list(reversed(tokenizer.sequences_to_texts([nearest_tokens])[0].split()))\n",
        "            \n",
        "            # update dictionary\n",
        "            if batch:\n",
        "                self.neighbors_dict_batches[word].append(nearest_neighbors)\n",
        "            else:\n",
        "                self.neighbors_dict_epochs[word].append(nearest_neighbors)\n",
        "          \n",
        "        \n"
      ]
    },
    {
      "cell_type": "code",
      "execution_count": null,
      "metadata": {
        "id": "vl-EUHIeTThg"
      },
      "outputs": [],
      "source": [
        "import matplotlib.pyplot as plt\n",
        "\n",
        "# plotting function for performance metrics\n",
        "def plothist(hist):\n",
        "    print(\"\\n============== Performance of Model ================\")\n",
        "\n",
        "    line1, = plt.plot(hist.history['loss'])\n",
        "    line2, = plt.plot(hist.history['accuracy'])\n",
        "    line3, = plt.plot(history.history['val_loss'])\n",
        "    line4, = plt.plot(history.history['val_accuracy']) \n",
        "    plt.title('Model Performance')\n",
        "    plt.ylabel('Loss/Accuracy')\n",
        "    plt.xlabel('Training steps')\n",
        "    plt.legend((line1, line2, line3, line4),(\"train loss\", \"train accuracy\", \"val loss\", \"val accuracy\"))\n",
        "    plt.show()"
      ]
    },
    {
      "cell_type": "code",
      "execution_count": null,
      "metadata": {
        "id": "6BvLOOWlSXQb"
      },
      "outputs": [],
      "source": [
        "from prettytable import PrettyTable\n",
        "\n",
        "# plotting function for neighbors of tracking words\n",
        "def print_neighbors(tracking, tracking_words, epochs):\n",
        "   \n",
        "    batches_dict = tracking.neighbors_dict_batches\n",
        "    epoches_dict = tracking.neighbors_dict_epochs\n",
        "\n",
        "    print(\"\\n=============== Nearest neighbors from samples during first epoch ===============\")\n",
        "\n",
        "    # print a table for each sampled batch\n",
        "    for sample in range(len(batches_dict.get(tracking_words[0]))):\n",
        "        print(f\"Sample {sample}\")\n",
        "        \n",
        "        # iterate through dictionary\n",
        "        # print table with neighbor words of current epoch\n",
        "        table = PrettyTable()\n",
        "        columns = tracking_words\n",
        "        for i, word in enumerate(tracking_words):\n",
        "            table.add_column(columns[i], batches_dict.get(word)[sample])\n",
        "\n",
        "        print(table)   \n",
        "\n",
        "    print(\"\\n=============== Nearest neighbors at end of each epoch ===============\")\n",
        "\n",
        "    # print a table for each sampled batch\n",
        "    for epoch in range(1, epochs+1):\n",
        "        print(f\"Epoch {epoch}\")\n",
        "        \n",
        "        # iterate through dictionary\n",
        "        # print table with neighbor words of current epoch\n",
        "        table = PrettyTable()\n",
        "        columns = tracking_words\n",
        "        for i, word in enumerate(tracking_words):\n",
        "            table.add_column(columns[i], batches_dict.get(word)[epoch])\n",
        "\n",
        "        print(table)   \n"
      ]
    },
    {
      "cell_type": "code",
      "execution_count": null,
      "metadata": {
        "colab": {
          "base_uri": "https://localhost:8080/",
          "height": 1000
        },
        "id": "bWGrs_hatB9-",
        "outputId": "4ed007df-4721-4af6-9644-fa6b1d7476aa"
      },
      "outputs": [
        {
          "output_type": "stream",
          "name": "stdout",
          "text": [
            "Epoch 1/2\n"
          ]
        },
        {
          "output_type": "stream",
          "name": "stderr",
          "text": [
            "/usr/local/lib/python3.8/dist-packages/tensorflow/python/framework/indexed_slices.py:444: UserWarning: Converting sparse IndexedSlices(IndexedSlices(indices=Tensor(\"Adam/gradients/PartitionedCall:1\", shape=(None,), dtype=int64), values=Tensor(\"Adam/gradients/PartitionedCall:0\", shape=(None, 100), dtype=float32), dense_shape=Tensor(\"Adam/gradients/PartitionedCall:2\", shape=(2,), dtype=int32))) to a dense Tensor of unknown shape. This may consume a large amount of memory.\n",
            "  warnings.warn(\n"
          ]
        },
        {
          "output_type": "stream",
          "name": "stdout",
          "text": [
            "    5/32552 [..............................] - ETA: 7:34 - loss: 7.3432 - accuracy: 0.4812    "
          ]
        },
        {
          "output_type": "stream",
          "name": "stderr",
          "text": [
            "WARNING:tensorflow:Callback method `on_train_batch_end` is slow compared to the batch time (batch time: 0.0119s vs `on_train_batch_end` time: 0.0264s). Check your callbacks.\n"
          ]
        },
        {
          "output_type": "stream",
          "name": "stdout",
          "text": [
            "32552/32552 [==============================] - 294s 9ms/step - loss: 0.4995 - accuracy: 0.8482 - val_loss: 0.4431 - val_accuracy: 0.8562\n",
            "Epoch 2/2\n",
            "32552/32552 [==============================] - 279s 9ms/step - loss: 0.4246 - accuracy: 0.8609 - val_loss: 0.4102 - val_accuracy: 0.8643\n",
            "\n",
            "============== Performance of Model ================\n"
          ]
        },
        {
          "output_type": "display_data",
          "data": {
            "text/plain": [
              "<Figure size 432x288 with 1 Axes>"
            ],
            "image/png": "[encoded data removed]"
          },
          "metadata": {
            "needs_background": "light"
          }
        },
        {
          "output_type": "stream",
          "name": "stdout",
          "text": [
            "\n",
            "=============== Nearest neighbors from samples during first epoch ===============\n",
            "Sample 0\n",
            "+-----------+-----------+----------+------------+-------------+----------+--------------+-----------+\n",
            "|    god    |    good   |  stone   |    hand    |     sin     |  father  |    mother    |   woman   |\n",
            "+-----------+-----------+----------+------------+-------------+----------+--------------+-----------+\n",
            "|  terraces |  blasting | watering | ramathlehi |    punon    |  beside  | unprofitable |    amal   |\n",
            "|  helping  |  lionlike |  faults  |  zebadiah  |   uttered   |   foot   |   moabite    |   weaker  |\n",
            "|  thahash  |    pole   |   out    |  repaired  |    groan    |  rigour  |   situate    |  borrowed |\n",
            "|   desert  |  gershon  |  north   |   equal    |    cockle   | fighteth |     shot     | tirshatha |\n",
            "| adversity | pasdammim | giddalti |  japhlet   | meronothite |  bewail  |   oppress    |  stilled  |\n",
            "+-----------+-----------+----------+------------+-------------+----------+--------------+-----------+\n",
            "Sample 1\n",
            "+---------+-------+-----------+----------+-------------+----------+----------+--------+\n",
            "|   god   |  good |   stone   |   hand   |     sin     |  father  |  mother  | woman  |\n",
            "+---------+-------+-----------+----------+-------------+----------+----------+--------+\n",
            "|    44   |  sons |  created  |  return  |   gathered  | brethren | captain  | cakes  |\n",
            "|  piece  |  law  | judgments |   eyes   |     tree    |    18    |  bowed   | timber |\n",
            "|  jacob  | cried |    blow   |  spoken  |  delivered  |    7     | captains | offer  |\n",
            "| vessels |  face |  removed  | children |   captains  |    23    |   esau   |  hide  |\n",
            "|    2    |  saul |  promised | sixteen  | commandment |   art    |   sin    |   52   |\n",
            "+---------+-------+-----------+----------+-------------+----------+----------+--------+\n",
            "Sample 2\n",
            "+----------+-------+-----------+----------+----------+--------+----------+----------+\n",
            "|   god    |  good |   stone   |   hand   |   sin    | father |  mother  |  woman   |\n",
            "+----------+-------+-----------+----------+----------+--------+----------+----------+\n",
            "|  joseph  |  seed | delivered |  round   | departed | jacob  | stranger | departed |\n",
            "|  house   |   27  |  unclean  | ephraim  |  samuel  |   24   |  height  |   sin    |\n",
            "|  ruler   | chief |     4     | chariots |   ram    |  pray  |    33    |    44    |\n",
            "| gathered |  lord |    wife   |  heaven  |  remain  |  thee  |  gibeah  |   ahab   |\n",
            "|    16    |  told |     36    |  dream   |  angel   |   35   |  flour   |  voice   |\n",
            "+----------+-------+-----------+----------+----------+--------+----------+----------+\n",
            "Sample 3\n",
            "+--------+------------+-------+----------+--------+----------+--------+---------+\n",
            "|  god   |    good    | stone |   hand   |  sin   |  father  | mother |  woman  |\n",
            "+--------+------------+-------+----------+--------+----------+--------+---------+\n",
            "|   23   | sacrifices |   10  |   sea    | months |  cities  |  hate  |  smote  |\n",
            "|   3    |  possess   |   25  | minister | esther |  chief   |   44   |  month  |\n",
            "| sister | judgments  |   9   |  tables  | cheek  |  offer   | family | shekels |\n",
            "| heard  |     31     |   1   | syrians  |  wing  |    14    |  sold  |  dwell  |\n",
            "|  lord  |  perfect   |  lift |  cried   |  joy   | servants | sodom  |   long  |\n",
            "+--------+------------+-------+----------+--------+----------+--------+---------+\n",
            "Sample 4\n",
            "+-------+-------+---------+--------------+------------+----------+----------+--------+\n",
            "|  god  |  good |  stone  |     hand     |    sin     |  father  |  mother  | woman  |\n",
            "+-------+-------+---------+--------------+------------+----------+----------+--------+\n",
            "|   1   | altar |   sing  |     lord     |   cities   |  blood   |  fifty   |  camp  |\n",
            "| egypt | flesh | thither |    burnt     |   mouth    |    24    | brethren | thirty |\n",
            "| shalt |   12  |   buy   |   nations    |     1      |    32    |  manner  | egypt  |\n",
            "| place |   27  | rejoice | congregation |   ruler    | joseph's |   ears   | goeth  |\n",
            "| woman |   4   |   moab  |      29      | messengers |  times   | presence | manner |\n",
            "+-------+-------+---------+--------------+------------+----------+----------+--------+\n",
            "\n",
            "=============== Nearest neighbors at end of each epoch ===============\n",
            "Epoch 1\n",
            "+---------+-------+-----------+----------+-------------+----------+----------+--------+\n",
            "|   god   |  good |   stone   |   hand   |     sin     |  father  |  mother  | woman  |\n",
            "+---------+-------+-----------+----------+-------------+----------+----------+--------+\n",
            "|    44   |  sons |  created  |  return  |   gathered  | brethren | captain  | cakes  |\n",
            "|  piece  |  law  | judgments |   eyes   |     tree    |    18    |  bowed   | timber |\n",
            "|  jacob  | cried |    blow   |  spoken  |  delivered  |    7     | captains | offer  |\n",
            "| vessels |  face |  removed  | children |   captains  |    23    |   esau   |  hide  |\n",
            "|    2    |  saul |  promised | sixteen  | commandment |   art    |   sin    |   52   |\n",
            "+---------+-------+-----------+----------+-------------+----------+----------+--------+\n",
            "Epoch 2\n",
            "+----------+-------+-----------+----------+----------+--------+----------+----------+\n",
            "|   god    |  good |   stone   |   hand   |   sin    | father |  mother  |  woman   |\n",
            "+----------+-------+-----------+----------+----------+--------+----------+----------+\n",
            "|  joseph  |  seed | delivered |  round   | departed | jacob  | stranger | departed |\n",
            "|  house   |   27  |  unclean  | ephraim  |  samuel  |   24   |  height  |   sin    |\n",
            "|  ruler   | chief |     4     | chariots |   ram    |  pray  |    33    |    44    |\n",
            "| gathered |  lord |    wife   |  heaven  |  remain  |  thee  |  gibeah  |   ahab   |\n",
            "|    16    |  told |     36    |  dream   |  angel   |   35   |  flour   |  voice   |\n",
            "+----------+-------+-----------+----------+----------+--------+----------+----------+\n"
          ]
        }
      ],
      "source": [
        "# model\n",
        "model = SkipGram(embedding_units=100)\n",
        "model.compile(optimizer='adam', \n",
        "              loss='binary_crossentropy',\n",
        "              metrics=['accuracy']\n",
        "              )\n",
        "\n",
        "# words that ought to be tracked during training\n",
        "tracking_words = [\"god\", \"good\", \"stone\", \"hand\", \"sin\", \"father\", \"mother\", \"woman\"]\n",
        "# callback class with tracking function (called after each epoch)\n",
        "tracking = TrackingNeighbors(model, tracking_words, tokenizer, k=5)\n",
        "\n",
        "# index for splitting the data in training (80%) and validation set (20%)\n",
        "split = int(len(pairs) * 4/5) \n",
        "\n",
        "# training\n",
        "epochs = 5\n",
        "history = model.fit(x=pairs[:split], \n",
        "                    y=labels[:split], \n",
        "                    batch_size=64, \n",
        "                    epochs=epochs,\n",
        "                    validation_data=(pairs[split:], labels[split:]),\n",
        "                    callbacks=[tracking]\n",
        "                    )\n",
        "\n",
        "# visualization\n",
        "plothist(history)\n",
        "print_neighbors(tracking, tracking_words, epochs)"
      ]
    },
    {
      "cell_type": "code",
      "source": [],
      "metadata": {
        "id": "99hOysY0pbt3"
      },
      "execution_count": null,
      "outputs": []
    }
  ],
  "metadata": {
    "colab": {
      "provenance": []
    },
    "gpuClass": "standard",
    "kernelspec": {
      "display_name": "Python 3",
      "name": "python3"
    },
    "language_info": {
      "name": "python"
    }
  },
  "nbformat": 4,
  "nbformat_minor": 0
}