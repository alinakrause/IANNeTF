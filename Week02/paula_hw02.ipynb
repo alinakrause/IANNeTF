{
  "nbformat": 4,
  "nbformat_minor": 0,
  "metadata": {
    "colab": {
      "provenance": [],
      "collapsed_sections": []
    },
    "kernelspec": {
      "name": "python3",
      "display_name": "Python 3"
    },
    "language_info": {
      "name": "python"
    },
    "gpuClass": "standard"
  },
  "cells": [
    {
      "cell_type": "markdown",
      "source": [
        "**IANNwTF - Homework 02**\n",
        "\n",
        "Multi-Layer Perceptron\n",
        "\n",
        "*2.1 - Building your data set*"
      ],
      "metadata": {
        "id": "iVAgFWofa91-"
      }
    },
    {
      "cell_type": "markdown",
      "source": [],
      "metadata": {
        "id": "AWDS_w49bV9a"
      }
    },
    {
      "cell_type": "code",
      "source": [
        "import numpy as np\n",
        "import matplotlib.pyplot as plt"
      ],
      "metadata": {
        "id": "lJ1BLOfGa4cX"
      },
      "execution_count": 215,
      "outputs": []
    },
    {
      "cell_type": "code",
      "execution_count": 216,
      "metadata": {
        "id": "1122fGdqatzU"
      },
      "outputs": [],
      "source": [
        "## Task 01 - Building your data set\n",
        "\n",
        "# input numbers\n",
        "# 100 random numbers btw 0 and 1\n",
        "x = np.random.rand(100)\n",
        "\n",
        "# targets\n",
        "# t[i] = x[i]**3-x[i]**2\n",
        "t = np.zeros(100)\n",
        "for idx, i in np.ndenumerate(x):\n",
        "    t[idx] = (i**2)-(i**3)\n",
        "\n",
        "# putting it in one array\n",
        "data = np.stack([x, t], axis=1)"
      ]
    },
    {
      "cell_type": "code",
      "source": [
        "# plot datapoints along with underlying function\n",
        "plt.scatter(x, t)\n",
        "plt.xlabel('input')\n",
        "plt.ylabel('target')\n",
        "\n",
        "x1 = np.linspace(0, 1, 100)\n",
        "y = np.random.rand(100)\n",
        "for idx, i in np.ndenumerate(x1):\n",
        "    y[idx] = (i**2)-(i**3)\n",
        "plt.plot(x1, y)\n",
        "plt.show()\n"
      ],
      "metadata": {
        "colab": {
          "base_uri": "https://localhost:8080/",
          "height": 279
        },
        "id": "a7NuDt0ka2J6",
        "outputId": "b8b8eb20-0615-4a2f-f994-ff80a758607b"
      },
      "execution_count": 217,
      "outputs": [
        {
          "output_type": "display_data",
          "data": {
            "text/plain": [
              "<Figure size 432x288 with 1 Axes>"
            ],
            "image/png": "[encoded data removed]"
          },
          "metadata": {
            "needs_background": "light"
          }
        }
      ]
    },
    {
      "cell_type": "markdown",
      "source": [
        "*2.2 Perceptrons*"
      ],
      "metadata": {
        "id": "FBlWpOsCbv7H"
      }
    },
    {
      "cell_type": "code",
      "source": [
        "# relu activation function\n",
        "def relu(x):\n",
        "  x[x<0] = 0\n",
        "  return x\n",
        "# derivative of relu function\n",
        "def relu_derivative(x):\n",
        "  x[x>=0] = 1\n",
        "  x[x<0] = 0 \n",
        "  return x\n",
        "# mean squared error function\n",
        "def mse(y, t):\n",
        "  return 1/2 * ((y - t)**2)"
      ],
      "metadata": {
        "id": "Mz_X4UULRADJ"
      },
      "execution_count": 218,
      "outputs": []
    },
    {
      "cell_type": "code",
      "source": [
        "## Task 02 - Perceptrons\n",
        "\n",
        "# one perceptron layer\n",
        "class Layer(object):\n",
        "  # accept number of units of this and preceding layer\n",
        "  def __init__(self, n_units, input_units):\n",
        "    self.bias = np.zeros(n_units)\n",
        "    self.weights = np.random.rand(input_units, n_units)\n",
        "    self.input = None\n",
        "    self.preactivation = None\n",
        "    self.activation = None\n",
        "\n",
        "  # forward method for activation\n",
        "  # returns each unit's activation (output)\n",
        "  def forward_step(self, input):\n",
        "    self.input = input\n",
        "    self.preactivation = input @ self.weights + self.bias\n",
        "    self.activation = relu(self.preactivation)\n",
        "    return self.activation\n",
        "\n",
        "  # backwards method for backpropagation\n",
        "  # updates each unit's parameters\n",
        "  # parameter dLda: \n",
        "  # loss-activation derivative obtained from layer l+1 \n",
        "  # or directly from loss function derivative\n",
        "  def backward_step(self, dLda, lr):\n",
        "    # compute gradients wrt layer's parameters\n",
        "    error_signal = relu_derivative(self.preactivation) * dLda # bias gradients\n",
        "    weights_grad = (np.transpose(self.input) @ error_signal)\n",
        "\n",
        "    # compute gradients wrt its input (activation of l-1) \n",
        "    # -> new dLda for next layer\n",
        "    input_grad = error_signal @ np.transpose(self.weights)\n",
        "\n",
        "    # update parameters\n",
        "    self.weights = self.weights - (lr * weights_grad)\n",
        "    self.bias = self.bias - (lr * error_signal)\n",
        "\n",
        "    # pass the new updated dLda\n",
        "    return input_grad"
      ],
      "metadata": {
        "id": "rDLljRwEbvkN"
      },
      "execution_count": 219,
      "outputs": []
    },
    {
      "cell_type": "code",
      "source": [
        "## Task 03 - Multi-Layer Perceptron\n",
        "\n",
        "# whole multi-layer perceptron\n",
        "class MLP(object):\n",
        "  # initialized with learning rate and a list of number of layers\n",
        "  # and their respective unit size\n",
        "  def __init__(self, lr, layers):\n",
        "    self.lr = lr\n",
        "    self.layers = []\n",
        "    # initializes all the layers with the designated number of units\n",
        "    n_input = 1\n",
        "    for n_units in layers:\n",
        "       self.layers.append(Layer(n_units, n_input))\n",
        "       n_input = n_units\n",
        "\n",
        "  # propagates input signal (from given one data point) forward \n",
        "  # through the list by updating the input for the next layer\n",
        "  # returns output of the layer (if last layer: prediction)\n",
        "  def forward_step(self, data_point):\n",
        "    layer_input = np.array([data_point[0]]).reshape(1,1)\n",
        "    for layer in self.layers:\n",
        "      layer_input = layer.forward_step(layer_input)\n",
        "    return layer_input\n",
        "\n",
        "  def backpropagation(self, data_point, prediction):\n",
        "    delta = prediction - data_point[1] # derivative for mse loss function\n",
        "    for layer in reversed(self.layers):\n",
        "      delta = layer.backward_step(delta, self.lr)"
      ],
      "metadata": {
        "id": "gC8D7gyMQMJS"
      },
      "execution_count": 220,
      "outputs": []
    },
    {
      "cell_type": "code",
      "source": [
        "## Task 04 - Training\n",
        "\n",
        "# MLP with 1 hidden layer (10 units) & output layer (1 unit)\n",
        "nn = MLP(lr=0.05, layers=[10, 1])\n",
        "\n",
        "losses = [] # saves average loss of epoches\n",
        "num_epochs = 20\n",
        "for epoch in range(num_epochs):\n",
        "  print('Epoch {0}/{1}:'.format(epoch, num_epochs))\n",
        "  epoch_losses = [] # saves losses of each data point prediction\n",
        "  # perform forward and backward steps for each data point\n",
        "  for data_point in data: \n",
        "    prediction = nn.forward_step(data_point)\n",
        "    epoch_losses.append(mse(prediction, data_point[1])) # compute mse\n",
        "    nn.backpropagation(data_point, prediction)\n",
        "  avg_loss = np.mean(epoch_losses) \n",
        "  losses.append(avg_loss)\n",
        "  print('Average Loss: %.6f'%(avg_loss))\n",
        "print(\"Training finished.\")"
      ],
      "metadata": {
        "colab": {
          "base_uri": "https://localhost:8080/"
        },
        "id": "oL20qdt2PklF",
        "outputId": "ffdff64f-23bc-4586-ff1f-185a1b6fd671"
      },
      "execution_count": 221,
      "outputs": [
        {
          "output_type": "stream",
          "name": "stdout",
          "text": [
            "Epoch 0/20:\n",
            "Average Loss: 0.024681\n",
            "Epoch 1/20:\n",
            "Average Loss: 0.004889\n",
            "Epoch 2/20:\n",
            "Average Loss: 0.003878\n",
            "Epoch 3/20:\n",
            "Average Loss: 0.002807\n",
            "Epoch 4/20:\n",
            "Average Loss: 0.001708\n",
            "Epoch 5/20:\n",
            "Average Loss: 0.000972\n",
            "Epoch 6/20:\n",
            "Average Loss: 0.000807\n",
            "Epoch 7/20:\n",
            "Average Loss: 0.000793\n",
            "Epoch 8/20:\n",
            "Average Loss: 0.000792\n",
            "Epoch 9/20:\n",
            "Average Loss: 0.000792\n",
            "Epoch 10/20:\n",
            "Average Loss: 0.000792\n",
            "Epoch 11/20:\n",
            "Average Loss: 0.000792\n",
            "Epoch 12/20:\n",
            "Average Loss: 0.000792\n",
            "Epoch 13/20:\n",
            "Average Loss: 0.000792\n",
            "Epoch 14/20:\n",
            "Average Loss: 0.000792\n",
            "Epoch 15/20:\n",
            "Average Loss: 0.000791\n",
            "Epoch 16/20:\n",
            "Average Loss: 0.000791\n",
            "Epoch 17/20:\n",
            "Average Loss: 0.000791\n",
            "Epoch 18/20:\n",
            "Average Loss: 0.000791\n",
            "Epoch 19/20:\n",
            "Average Loss: 0.000791\n",
            "Training finished.\n"
          ]
        }
      ]
    },
    {
      "cell_type": "code",
      "source": [
        "## Task 05 - Visualization\n",
        "\n",
        "# plot training progress (aka average epoch losses)\n",
        "plt.scatter(np.arange(num_epochs), losses)\n",
        "plt.xlabel('epoch')\n",
        "plt.ylabel('average loss')\n",
        "\n",
        "plt.show()"
      ],
      "metadata": {
        "colab": {
          "base_uri": "https://localhost:8080/",
          "height": 279
        },
        "id": "905egEnWOBZT",
        "outputId": "717abcbd-715c-4090-b413-08ae304d97a9"
      },
      "execution_count": 222,
      "outputs": [
        {
          "output_type": "display_data",
          "data": {
            "text/plain": [
              "<Figure size 432x288 with 1 Axes>"
            ],
            "image/png": "[encoded data removed]"
          },
          "metadata": {
            "needs_background": "light"
          }
        }
      ]
    }
  ]
}