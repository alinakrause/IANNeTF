{
 "cells": [
  {
   "cell_type": "code",
   "execution_count": 2,
   "id": "68bbec95-36c0-49ea-ab5f-a9277370d9c9",
   "metadata": {},
   "outputs": [],
   "source": [
    "import tensorflow as tf\n",
    "import numpy as np\n"
   ]
  },
  {
   "cell_type": "code",
   "execution_count": 7,
   "id": "7c18ec65-1b35-4e62-8064-5789dd95fbd0",
   "metadata": {},
   "outputs": [],
   "source": [
    "#create input data\n",
    "input_data = np.random.rand(1,100)\n",
    "\n",
    "#create lambda function to apply on data\n",
    "f = lambda x: x**3-x**2\n",
    "\n",
    "#create target set\n",
    "target = f(input_data)\n",
    "\n",
    "#define ReLU\n",
    "def reLU(x):\n",
    "    return x * (x > 0)"
   ]
  },
  {
   "cell_type": "code",
   "execution_count": 5,
   "id": "911522de",
   "metadata": {},
   "outputs": [
    {
     "data": {
      "text/plain": [
       "(1, 100)"
      ]
     },
     "execution_count": 5,
     "metadata": {},
     "output_type": "execute_result"
    }
   ],
   "source": [
    "class Layer:\n",
    "    def __init__(self, n_units, input_units):\n",
    "        self.n_units = n_units\n",
    "        self.input_units = input_units\n",
    "        \n",
    "        #bias vector initialized with zeros\n",
    "        self.bias_vector = np.zeros(n_units)\n",
    "        \n",
    "        #Xavier Initialization for Random Weights\n",
    "        self.weight_matrix = np.random.normal(0, scale=sqrt(2/n_units+input_units), (input_units, n_units))\n",
    "        \n",
    "        #Initialize empty attributes\n",
    "        self.layer_input = None\n",
    "        self.layer_preactivation = None\n",
    "        self.layer_activation = None\n",
    "        \n",
    "    def forward_step(self, input_vector):\n",
    "        #get vector of (weight x input) + bias\n",
    "        activation_vector = self.weight_matrix @ input_vector + self.bias_vector\n",
    "        output_vector = reLu(activation_vector)\n",
    "        return output_vector\n",
    "        \n",
    "    def backward_step(self)\n",
    "        "
   ]
  },
  {
   "cell_type": "code",
   "execution_count": null,
   "id": "df2cbe0e",
   "metadata": {},
   "outputs": [],
   "source": []
  }
 ],
 "metadata": {
  "kernelspec": {
   "display_name": "Python 3 (ipykernel)",
   "language": "python",
   "name": "python3"
  },
  "language_info": {
   "codemirror_mode": {
    "name": "ipython",
    "version": 3
   },
   "file_extension": ".py",
   "mimetype": "text/x-python",
   "name": "python",
   "nbconvert_exporter": "python",
   "pygments_lexer": "ipython3",
   "version": "3.7.13"
  }
 },
 "nbformat": 4,
 "nbformat_minor": 5
}
