{
 "cells": [
  {
   "cell_type": "code",
   "execution_count": 1,
   "id": "4f241989",
   "metadata": {},
   "outputs": [],
   "source": [
    "import tensorflow as tf\n",
    "import tensorflow_datasets as tfds\n",
    "import numpy as np\n",
    "\n",
    "%reload_ext tensorboard\n"
   ]
  },
  {
   "cell_type": "code",
   "execution_count": 2,
   "id": "5b47867c",
   "metadata": {},
   "outputs": [
    {
     "name": "stderr",
     "output_type": "stream",
     "text": [
      "2022-12-07 21:30:45.365088: I tensorflow/core/platform/cpu_feature_guard.cc:193] This TensorFlow binary is optimized with oneAPI Deep Neural Network Library (oneDNN) to use the following CPU instructions in performance-critical operations:  SSE4.1 SSE4.2 AVX AVX2 FMA\n",
      "To enable them in other operations, rebuild TensorFlow with the appropriate compiler flags.\n",
      "2022-12-07 21:30:45.367463: I tensorflow/core/common_runtime/process_util.cc:146] Creating new thread pool with default inter op setting: 2. Tune using inter_op_parallelism_threads for best performance.\n"
     ]
    }
   ],
   "source": [
    "# load the data\n",
    "(train_ds, val_ds), ds_info = tfds.load('cifar10', split=['train', 'test'], \n",
    "                            shuffle_files=True, with_info=True)\n",
    "# visualize a sample\n",
    "#print(ds_info)\n",
    "#tfds.show_examples(train_ds, ds_info)\n",
    "\n",
    "\n",
    "# preprocess the data \n",
    "one_hot = lambda x: tf.one_hot(x, 10)\n",
    "map_func = lambda x, y: (tf.cast(x, dtype=tf.float32)/255., # normalization\n",
    "                            tf.cast(one_hot(y),tf.float32)) # make labels into one hot vectors\n",
    "map_func_2 = lambda x: (x[\"image\"],x[\"label\"])\n",
    "train_ds = train_ds.map(map_func_2).map(map_func).cache()\n",
    "val_ds   = val_ds.map(map_func_2).map(map_func).cache()\n",
    "\n",
    "# prepare the datasets\n",
    "batch_size = 64\n",
    "train_ds = train_ds.shuffle(4096).batch(batch_size)\n",
    "val_ds   = val_ds.shuffle(4096).batch(batch_size)\n",
    "\n",
    "train_ds = train_ds.prefetch(tf.data.AUTOTUNE)\n",
    "val_ds = val_ds.prefetch(tf.data.AUTOTUNE)"
   ]
  },
  {
   "cell_type": "code",
   "execution_count": 13,
   "id": "68cc9ae7",
   "metadata": {},
   "outputs": [],
   "source": [
    "class ConvModel(tf.keras.Model):\n",
    "    \"\"\"\n",
    "    The Convolutional Neural Network Model for the Classification of the CIFAR-10 dataset.\n",
    "\n",
    "    It consists of 4 hidden layers and one output layer. The first 3 layers are convolutional,\n",
    "    while the last hidden layer and the output layer are fully connected. On the output of\n",
    "    each layer a Normalization and MaxPooling and Droput (apart from first layer) is performed.\n",
    "    \"\"\"\n",
    "    def __init__(self):\n",
    "        super().__init__()\n",
    "\n",
    "        # convolutional hidden layer 1\n",
    "        self.layer1 = tf.keras.Sequential()\n",
    "        self.layer1.add(tf.keras.layers.Conv2D(filters=32, kernel_size=5, padding='same', activation='relu'))\n",
    "        self.layer1.add(tf.keras.layers.MaxPooling2D(pool_size=2, strides=2))\n",
    "\n",
    "        # convolutional hidden layer 2\n",
    "        self.layer2 = tf.keras.Sequential()\n",
    "        self.layer2.add(tf.keras.layers.Conv2D(filters=64, kernel_size=3, padding='same', activation='relu'))\n",
    "        self.layer2.add(tf.keras.layers.MaxPooling2D(pool_size=2, strides=2))\n",
    "\n",
    "        # convolutional hidden layer 3\n",
    "        self.layer3 = tf.keras.Sequential()\n",
    "        self.layer3.add(tf.keras.layers.Conv2D(filters=128, kernel_size=3, padding='same', activation='relu'))\n",
    "        self.layer3.add(tf.keras.layers.MaxPooling2D(pool_size=2, strides=2))\n",
    "        self.layer3.add(tf.keras.layers.Flatten())\n",
    "\n",
    "        # fully connected output layer\n",
    "        self.out = tf.keras.layers.Dense(10, activation='softmax')\n",
    "\n",
    "    def call(self, x):\n",
    "        x = self.layer1(x)\n",
    "        x = self.layer2(x)\n",
    "        x = self.layer3(x)\n",
    "        x = self.out(x)\n",
    "        return x"
   ]
  },
  {
   "cell_type": "code",
   "execution_count": 14,
   "id": "23556253",
   "metadata": {},
   "outputs": [
    {
     "name": "stdout",
     "output_type": "stream",
     "text": [
      "Model: \"conv_model_3\"\n",
      "_________________________________________________________________\n",
      " Layer (type)                Output Shape              Param #   \n",
      "=================================================================\n",
      " sequential_9 (Sequential)   (None, 16, 16, 32)        2432      \n",
      "                                                                 \n",
      " sequential_10 (Sequential)  (None, 8, 8, 64)          18496     \n",
      "                                                                 \n",
      " sequential_11 (Sequential)  (None, 2048)              73856     \n",
      "                                                                 \n",
      " dense_2 (Dense)             multiple                  20490     \n",
      "                                                                 \n",
      "=================================================================\n",
      "Total params: 115,274\n",
      "Trainable params: 115,274\n",
      "Non-trainable params: 0\n",
      "_________________________________________________________________\n"
     ]
    }
   ],
   "source": [
    "# instantiate and compile model with its hyperparameters\n",
    "model = ConvModel()\n",
    "model.compile(optimizer=\"adam\", loss=tf.keras.losses.CategoricalCrossentropy(), metrics=[\"accuracy\"])\n",
    "\n",
    "# build the model and show summary\n",
    "model(tf.keras.Input((32,32,3)));\n",
    "model.summary()"
   ]
  },
  {
   "cell_type": "code",
   "execution_count": 15,
   "id": "bd37ab2b",
   "metadata": {},
   "outputs": [],
   "source": [
    "#model.fit()"
   ]
  },
  {
   "cell_type": "code",
   "execution_count": 16,
   "id": "da2c6b0a",
   "metadata": {},
   "outputs": [],
   "source": [
    "import datetime\n",
    "\n",
    "def create_file_writers():\n",
    "    \"\"\"\n",
    "    A function to create the log file writers for the Tensorboard.\n",
    "    \n",
    "    Returns:\n",
    "        The log file writers for the training validation metrics respectively.\n",
    "    \"\"\"\n",
    "\n",
    "    # Define where to save the log\n",
    "    config_name= \"config_name\"\n",
    "    current_time = datetime.datetime.now().strftime(\"%Y%m%d-%H%M%S\")\n",
    "    train_log_path = f\"logs/{config_name}/{current_time}/train\"\n",
    "    val_log_path = f\"logs/{config_name}/{current_time}/val\"\n",
    "    \n",
    "    return tf.summary.create_file_writer(train_log_path), tf.summary.create_file_writer(val_log_path)"
   ]
  },
  {
   "cell_type": "code",
   "execution_count": 17,
   "id": "d32063b0",
   "metadata": {},
   "outputs": [],
   "source": [
    "import pprint\n",
    "import tqdm\n",
    "import matplotlib.pyplot as plt\n",
    "\n",
    "\n",
    "def training_loop(model, train_ds, val_ds, epochs):\n",
    "    \"\"\"\n",
    "    A Function that trains a model on the training and validation data.\n",
    "\n",
    "    It creates file writers to save the metrics for visualization \n",
    "    with the Tensorboard. Then it iterates over all epochs, performs\n",
    "    a forward and backwardspass of the model with the training \n",
    "    and validation dataset and saves the respective performance metrics.\n",
    "\n",
    "    Parameters:\n",
    "        model (Model): The ANN model to be trained.\n",
    "        train_ds (PrefetchDataset): The preprocessed training dataset.\n",
    "        val_ds (PrefetchDataset): The preprocessed validation dataset.\n",
    "    \"\"\"\n",
    "    # create file writers for Tensorboard\n",
    "    train_summary_writer, val_summary_writer = create_file_writers()\n",
    "\n",
    "    # create arrays for plot visualization of metrics\n",
    "    train_losses = []\n",
    "    train_accuracies = []\n",
    "    val_losses = []\n",
    "    val_accuracies = []   \n",
    "\n",
    "    for epoch in range(epochs):\n",
    "        print(f\"Epoch {epoch}:\")\n",
    "        \n",
    "        # Training:\n",
    "        for data in tqdm.tqdm(train_ds, position=0, leave=True):\n",
    "            metrics = model.train_step(data)\n",
    "            \n",
    "            # logging the validation metrics to the log file which is used by tensorboard\n",
    "            with train_summary_writer.as_default():\n",
    "                for metric in model.metrics:\n",
    "                    tf.summary.scalar(f\"{metric.name}\", metric.result(), step=epoch)\n",
    "\n",
    "        # store metrics for visualization\n",
    "        train_losses.append(metrics[\"loss\"])\n",
    "        train_accuracies.append(metrics[\"accuracy\"])\n",
    "\n",
    "        print([f\"{key}: {value.numpy()}\" for (key, value) in metrics.items()])\n",
    "        \n",
    "        model.reset_metrics()    \n",
    "        \n",
    "        # Validation:\n",
    "        for data in val_ds:\n",
    "            metrics = model.test_step(data)\n",
    "        \n",
    "            # logging the validation metrics to the log file which is used by tensorboard\n",
    "            with val_summary_writer.as_default():\n",
    "                for metric in model.metrics:\n",
    "                    tf.summary.scalar(f\"{metric.name}\", metric.result(), step=epoch)\n",
    "        \n",
    "        # store metrics for visualization\n",
    "        val_losses.append(metrics[\"loss\"])\n",
    "        val_accuracies.append(metrics[\"accuracy\"])\n",
    "                    \n",
    "        print([f\"val_{key}: {value.numpy()}\\n\" for (key, value) in metrics.items()])\n",
    "\n",
    "        model.reset_metrics()\n",
    "\n",
    "    ## visualize performance\n",
    "\n",
    "    # print the final loss and accuracy for testing different hyperparameters\n",
    "    print(\"Final loss: \", val_losses[-1])\n",
    "    print(\"Final accuracy: \", val_accuracies[-1])\n",
    "\n",
    "    # Visualize accuracy and loss for training and test data.\n",
    "    plt.figure()\n",
    "    line1, = plt.plot(train_losses)\n",
    "    line2, = plt.plot(val_losses)\n",
    "    line3, = plt.plot(val_accuracies)\n",
    "    line4, = plt.plot(train_accuracies)\n",
    "    plt.xlabel(\"Training steps\")\n",
    "    plt.ylabel(\"Loss/Accuracy\")\n",
    "    plt.legend((line1, line4, line2, line3),(\"train loss\", \"train accuracy\", \"val loss\", \"val accuracy\"))\n",
    "    plt.show()"
   ]
  },
  {
   "cell_type": "code",
   "execution_count": 18,
   "id": "2be05261",
   "metadata": {},
   "outputs": [
    {
     "name": "stdout",
     "output_type": "stream",
     "text": [
      "Epoch 0:\n"
     ]
    },
    {
     "name": "stderr",
     "output_type": "stream",
     "text": [
      "100%|████████████████████████████████████████████████████████████████████████████████████████████████████████████████████████████████████████████████████████████████████████████████████████████████████| 782/782 [00:47<00:00, 16.45it/s]\n"
     ]
    },
    {
     "name": "stdout",
     "output_type": "stream",
     "text": [
      "['loss: 1.4842758178710938', 'accuracy: 0.4670400023460388']\n",
      "['val_loss: 1.256535530090332\\n', 'val_accuracy: 0.5620999932289124\\n']\n",
      "Epoch 1:\n"
     ]
    },
    {
     "name": "stderr",
     "output_type": "stream",
     "text": [
      "100%|████████████████████████████████████████████████████████████████████████████████████████████████████████████████████████████████████████████████████████████████████████████████████████████████████| 782/782 [00:47<00:00, 16.59it/s]\n"
     ]
    },
    {
     "name": "stdout",
     "output_type": "stream",
     "text": [
      "['loss: 1.0841825008392334', 'accuracy: 0.6215199828147888']\n",
      "['val_loss: 1.086085319519043\\n', 'val_accuracy: 0.6187999844551086\\n']\n",
      "Epoch 2:\n"
     ]
    },
    {
     "name": "stderr",
     "output_type": "stream",
     "text": [
      "100%|████████████████████████████████████████████████████████████████████████████████████████████████████████████████████████████████████████████████████████████████████████████████████████████████████| 782/782 [00:45<00:00, 17.06it/s]\n"
     ]
    },
    {
     "name": "stdout",
     "output_type": "stream",
     "text": [
      "['loss: 0.9230899810791016', 'accuracy: 0.6792399883270264']\n",
      "['val_loss: 0.9050909280776978\\n', 'val_accuracy: 0.6890000104904175\\n']\n",
      "Epoch 3:\n"
     ]
    },
    {
     "name": "stderr",
     "output_type": "stream",
     "text": [
      "100%|████████████████████████████████████████████████████████████████████████████████████████████████████████████████████████████████████████████████████████████████████████████████████████████████████| 782/782 [00:45<00:00, 17.26it/s]\n"
     ]
    },
    {
     "name": "stdout",
     "output_type": "stream",
     "text": [
      "['loss: 0.8137900829315186', 'accuracy: 0.7184399962425232']\n",
      "['val_loss: 0.8819632530212402\\n', 'val_accuracy: 0.6984999775886536\\n']\n",
      "Epoch 4:\n"
     ]
    },
    {
     "name": "stderr",
     "output_type": "stream",
     "text": [
      "100%|████████████████████████████████████████████████████████████████████████████████████████████████████████████████████████████████████████████████████████████████████████████████████████████████████| 782/782 [00:47<00:00, 16.50it/s]\n"
     ]
    },
    {
     "name": "stdout",
     "output_type": "stream",
     "text": [
      "['loss: 0.7356643080711365', 'accuracy: 0.7453600168228149']\n",
      "['val_loss: 0.8318488001823425\\n', 'val_accuracy: 0.7110000252723694\\n']\n",
      "Epoch 5:\n"
     ]
    },
    {
     "name": "stderr",
     "output_type": "stream",
     "text": [
      "100%|████████████████████████████████████████████████████████████████████████████████████████████████████████████████████████████████████████████████████████████████████████████████████████████████████| 782/782 [00:46<00:00, 16.70it/s]\n"
     ]
    },
    {
     "name": "stdout",
     "output_type": "stream",
     "text": [
      "['loss: 0.6724200248718262', 'accuracy: 0.768339991569519']\n",
      "['val_loss: 0.8731158971786499\\n', 'val_accuracy: 0.7053999900817871\\n']\n",
      "Epoch 6:\n"
     ]
    },
    {
     "name": "stderr",
     "output_type": "stream",
     "text": [
      "100%|████████████████████████████████████████████████████████████████████████████████████████████████████████████████████████████████████████████████████████████████████████████████████████████████████| 782/782 [00:46<00:00, 16.98it/s]\n"
     ]
    },
    {
     "name": "stdout",
     "output_type": "stream",
     "text": [
      "['loss: 0.6066218614578247', 'accuracy: 0.7916799783706665']\n",
      "['val_loss: 0.8629268407821655\\n', 'val_accuracy: 0.7129999995231628\\n']\n",
      "Epoch 7:\n"
     ]
    },
    {
     "name": "stderr",
     "output_type": "stream",
     "text": [
      "100%|████████████████████████████████████████████████████████████████████████████████████████████████████████████████████████████████████████████████████████████████████████████████████████████████████| 782/782 [00:47<00:00, 16.62it/s]\n"
     ]
    },
    {
     "name": "stdout",
     "output_type": "stream",
     "text": [
      "['loss: 0.5507315397262573', 'accuracy: 0.8098000288009644']\n",
      "['val_loss: 0.9113527536392212\\n', 'val_accuracy: 0.7120000123977661\\n']\n",
      "Epoch 8:\n"
     ]
    },
    {
     "name": "stderr",
     "output_type": "stream",
     "text": [
      "100%|████████████████████████████████████████████████████████████████████████████████████████████████████████████████████████████████████████████████████████████████████████████████████████████████████| 782/782 [00:45<00:00, 17.20it/s]\n"
     ]
    },
    {
     "name": "stdout",
     "output_type": "stream",
     "text": [
      "['loss: 0.4990929663181305', 'accuracy: 0.8274000287055969']\n",
      "['val_loss: 0.8806155323982239\\n', 'val_accuracy: 0.7213000059127808\\n']\n",
      "Epoch 9:\n"
     ]
    },
    {
     "name": "stderr",
     "output_type": "stream",
     "text": [
      "100%|████████████████████████████████████████████████████████████████████████████████████████████████████████████████████████████████████████████████████████████████████████████████████████████████████| 782/782 [00:44<00:00, 17.58it/s]\n"
     ]
    },
    {
     "name": "stdout",
     "output_type": "stream",
     "text": [
      "['loss: 0.45629069209098816', 'accuracy: 0.8409199714660645']\n",
      "['val_loss: 0.923017680644989\\n', 'val_accuracy: 0.7228999733924866\\n']\n",
      "Final loss:  tf.Tensor(0.9230177, shape=(), dtype=float32)\n",
      "Final accuracy:  tf.Tensor(0.7229, shape=(), dtype=float32)\n"
     ]
    },
    {
     "data": {
      "image/png": "[encoded data removed]",
      "text/plain": [
       "<Figure size 640x480 with 1 Axes>"
      ]
     },
     "metadata": {},
     "output_type": "display_data"
    },
    {
     "name": "stdout",
     "output_type": "stream",
     "text": [
      "Training finished.\n"
     ]
    }
   ],
   "source": [
    "# run the training loop \n",
    "training_loop(model=model, \n",
    "              train_ds=train_ds, \n",
    "              val_ds=val_ds, \n",
    "              epochs=10\n",
    ")\n",
    "print(\"Training finished.\")"
   ]
  },
  {
   "cell_type": "code",
   "execution_count": null,
   "id": "c2c33c32",
   "metadata": {},
   "outputs": [],
   "source": []
  }
 ],
 "metadata": {
  "kernelspec": {
   "display_name": "Python 3 (ipykernel)",
   "language": "python",
   "name": "python3"
  },
  "language_info": {
   "codemirror_mode": {
    "name": "ipython",
    "version": 3
   },
   "file_extension": ".py",
   "mimetype": "text/x-python",
   "name": "python",
   "nbconvert_exporter": "python",
   "pygments_lexer": "ipython3",
   "version": "3.7.13"
  }
 },
 "nbformat": 4,
 "nbformat_minor": 5
}
