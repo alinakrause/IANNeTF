{
  "cells": [
    {
      "cell_type": "code",
      "execution_count": 10,
      "metadata": {
        "id": "DrxwQQXVfyT8"
      },
      "outputs": [],
      "source": [
        "import tensorflow as tf\n",
        "import tensorflow_datasets as tfds\n",
        "import math\n",
        "import datetime "
      ]
    },
    {
      "cell_type": "code",
      "execution_count": 11,
      "metadata": {
        "id": "pt-IZJRtfyUA"
      },
      "outputs": [],
      "source": [
        "# model of network\n",
        "class TwinModel(tf.keras.Model):\n",
        "\n",
        "    # hyperparameters are passed for instantiation \n",
        "    # to make the model esasily adjustable \n",
        "    def __init__(self, hidden_activation, output_activation, optimizer, accuracy, loss_function, depth):\n",
        "        \n",
        "        # initialzie superclass\n",
        "        super().__init__()\n",
        "        \n",
        "        \n",
        "        # initialize optimizer, metric and loss function\n",
        "        self.optimizer = optimizer\n",
        "        self.metrics_list = [\n",
        "            tf.keras.metrics.Mean(name=\"mean\"),\n",
        "            accuracy\n",
        "            ] \n",
        "        self.loss_function = loss_function\n",
        "\n",
        "        # define layers\n",
        "        self.layer1 = tf.keras.layers.Dense(128, activation=hidden_activation)\n",
        "        self.layer2 = tf.keras.layers.Dense(128, activation=hidden_activation)\n",
        "        self.output_layer = tf.keras.layers.Dense(depth, activation=output_activation)\n",
        "    \n",
        "    # passes signal through network and calculates output\n",
        "    def call(self, images, training=False):\n",
        "                \n",
        "        img1, img2 = images\n",
        "        \n",
        "        # forward pass with first image\n",
        "        x1 = self.layer1(img1)\n",
        "        x1 = self.layer2(x1)\n",
        "\n",
        "        # forward pass with second image\n",
        "        x2 = self.layer1(img2)\n",
        "        x2 = self.layer2(x2)     \n",
        "\n",
        "        combined_x = tf.concat([x1, x2], axis=1)\n",
        "\n",
        "        return self.output_layer(combined_x)\n",
        "           \n",
        "    def reset_metrics(self):\n",
        "        \n",
        "        for metric in self.metrics:\n",
        "            metric.reset_states()\n",
        "\n",
        "    # performs trainstep by calculating loss and gradients and applying the gradients to weights\n",
        "    # and biases (trainable variables)      \n",
        "    @tf.function\n",
        "    def train_step(self, data):\n",
        "        \n",
        "        img1, img2, targets = data\n",
        "        \n",
        "        with tf.GradientTape() as tape:\n",
        "            predictions = self((img1, img2), training=True)\n",
        "            \n",
        "            loss = self.loss_function(targets, predictions) + tf.reduce_sum(self.losses)\n",
        "        \n",
        "        gradients = tape.gradient(loss, self.trainable_variables)\n",
        "        self.optimizer.apply_gradients(zip(gradients, self.trainable_variables))\n",
        "        \n",
        "        # update loss metric\n",
        "        self.metrics[0].update_state(loss)\n",
        "        \n",
        "        # for all metrics except loss, update states (accuracy etc.)\n",
        "        for metric in self.metrics[1:]:\n",
        "            metric.update_state(targets,predictions)\n",
        "\n",
        "        # Return a dictionary mapping metric names to current value\n",
        "        return {m.name: m.result() for m in self.metrics}\n",
        "\n",
        "    @tf.function\n",
        "    def test_step(self, data):\n",
        "\n",
        "        img1, img2, targets = data\n",
        "        predictions = self((img1, img2), training=False)\n",
        "        loss = self.loss_function(targets, predictions) + tf.reduce_sum(self.losses)\n",
        "\n",
        "        self.metrics[0].update_state(loss)\n",
        "        # for accuracy metrics:\n",
        "        for metric in self.metrics[1:]:\n",
        "            metric.update_state(targets, predictions)\n",
        "\n",
        "        return {m.name: m.result() for m in self.metrics}"
      ]
    },
    {
      "cell_type": "code",
      "execution_count": 12,
      "metadata": {
        "id": "DGQHzTstfyUF"
      },
      "outputs": [],
      "source": [
        "# Define where to save the log\n",
        "config_name= \"config_name\"\n",
        "current_time = datetime.datetime.now().strftime(\"%Y%m%d-%H%M%S\")\n",
        "\n",
        "train_log_path = f\"logs/{config_name}/{current_time}/train\"\n",
        "val_log_path = f\"logs/{config_name}/{current_time}/val\"\n",
        "\n",
        "# log writer for training metrics\n",
        "train_summary_writer = tf.summary.create_file_writer(train_log_path)\n",
        "\n",
        "# log writer for validation metrics\n",
        "val_summary_writer = tf.summary.create_file_writer(val_log_path)"
      ]
    },
    {
      "cell_type": "code",
      "execution_count": 13,
      "metadata": {
        "id": "p93yNKKVfyUG"
      },
      "outputs": [],
      "source": [
        "import pprint\n",
        "import tqdm\n",
        "\n",
        "def training_loop(model, train_ds, val_ds, epochs, train_summary_writer, val_summary_writer):\n",
        "    \n",
        "    for epoch in range(epochs):\n",
        "        print(f\"Epoch {epoch}:\")\n",
        "        \n",
        "        # Training:\n",
        "        for data in tqdm.tqdm(train_ds, position=0, leave=True):\n",
        "            metrics = model.train_step(data)\n",
        "            \n",
        "            # logging the validation metrics to the log file which is used by tensorboard\n",
        "            with train_summary_writer.as_default():\n",
        "                for metric in model.metrics:\n",
        "                    tf.summary.scalar(f\"{metric.name}\", metric.result(), step=epoch)\n",
        "\n",
        "        # print the metrics\n",
        "        print([f\"{key}: {value.numpy()}\" for (key, value) in metrics.items()])\n",
        "\n",
        "        # reset all metrics (requires a reset_metrics method in the model)\n",
        "        model.reset_metrics()    \n",
        "        \n",
        "        # Validation:\n",
        "        for data in val_ds:\n",
        "            metrics = model.test_step(data)\n",
        "        \n",
        "            # logging the validation metrics to the log file which is used by tensorboard\n",
        "            with val_summary_writer.as_default():\n",
        "                for metric in model.metrics:\n",
        "                    tf.summary.scalar(f\"{metric.name}\", metric.result(), step=epoch)\n",
        "                    \n",
        "        print([f\"val_{key}: {value.numpy()}\" for (key, value) in metrics.items()])\n",
        "\n",
        "        # reset all metrics\n",
        "        model.reset_metrics()\n",
        "        print(\"\\n\")"
      ]
    },
    {
      "cell_type": "code",
      "execution_count": 14,
      "metadata": {
        "id": "dUxtbkgGostV"
      },
      "outputs": [],
      "source": [
        "# write function to create the dataset that we want\n",
        "def preprocess(data, batch_size, target_function, depth):\n",
        "  \n",
        "\n",
        "  data = data.map(lambda x, t: ((tf.cast(tf.reshape(x, (-1,)), tf.float32)/128.)-1.,t))\n",
        "\n",
        "  # we want to have two mnist images in each example\n",
        "  zipped_ds = tf.data.Dataset.zip((data.shuffle(2000), data.shuffle(2000)))\n",
        "  # for subtask a: map ((x1,y1),(x2,y2)) to (x1,x2, y1+y2 >= 5*) *boolean\n",
        "  # for loss use binary cross entropy and for activation function sigmoid\n",
        "\n",
        "  # for subtask b: output layer is vector for values betweeen -9 and +9 -> turn into one_hot_vector\n",
        "  # for loss use categorical cross entropy and for activation function softmax\n",
        "  zipped_ds = zipped_ds.map(lambda x1, x2: (x1[0], x2[0], target_function(x1[1], x2[1])))\n",
        "  zipped_ds = zipped_ds.map(lambda x1, x2, target: (x1, x2, tf.one_hot(target, depth=depth)))\n",
        "\n",
        "  # batch the dataset\n",
        "  zipped_ds = zipped_ds.batch(batch_size)\n",
        "  # prefetch\n",
        "  zipped_ds = zipped_ds.prefetch(tf.data.AUTOTUNE)\n",
        "\n",
        "  return zipped_ds"
      ]
    },
    {
      "cell_type": "code",
      "execution_count": 15,
      "metadata": {
        "id": "b7316170"
      },
      "outputs": [],
      "source": [
        "# Initialize the functions for model.\n",
        "a = lambda x1, x2: int(x1 + x2 >= 5)\n",
        "b = lambda x1, x2: x1 - x2\n",
        "\n",
        "# sets different hyperparamters for the different subtasks\n",
        "# initializes respective model and calls training_loop\n",
        "def subtask(option):\n",
        "\n",
        "    # get mnist from tensorflow_datasets\n",
        "    train_ds, val_ds = tfds.load(\"mnist\", split =[\"train\",\"test\"], as_supervised=True)\n",
        "    \n",
        "    # check which model is asked for and initialize corresponding parameters\n",
        "    # hyperparameters for subtask a\n",
        "    if option == \"a\":\n",
        "        hidden_activation = tf.nn.sigmoid\n",
        "        output_activation = tf.nn.sigmoid\n",
        "        optimizer = tf.keras.optimizers.Adam(0.001)\n",
        "        loss_function = tf.keras.losses.BinaryCrossentropy()\n",
        "        depth = 1\n",
        "        train_ds = preprocess(train_ds, batch_size=32, target_function=a, depth=depth) #train_ds.apply(preprocess)\n",
        "        val_ds = preprocess(val_ds, batch_size=32, target_function=a, depth=depth) #val_ds.apply(preprocess)\n",
        "        accuracy = tf.keras.metrics.BinaryAccuracy(name=\"acc\")\n",
        "\n",
        "    # hyperparamteres for subtask b\n",
        "    if option == \"b\":\n",
        "        hidden_activation = tf.nn.relu\n",
        "        output_activation = tf.nn.sigmoid\n",
        "        optimizer = tf.keras.optimizers.SGD(0.001)\n",
        "        loss_function = tf.keras.losses.CategoricalCrossentropy()\n",
        "        depth=19\n",
        "        train_ds = preprocess(train_ds, batch_size=32, target_function=b, depth=depth) #train_ds.apply(preprocess)\n",
        "        val_ds = preprocess(val_ds, batch_size=32, target_function=b, depth=depth) #val_ds.apply(preprocess)\n",
        "        accuracy = tf.keras.metrics.CategoricalAccuracy(name=\"acc\")\n",
        "\n",
        "\n",
        "    model = TwinModel(hidden_activation, output_activation, optimizer, accuracy, loss_function, depth)\n",
        "        \n",
        "    training_loop(model=model,\n",
        "                  train_ds=train_ds,\n",
        "                  val_ds=val_ds,\n",
        "                  epochs=10,\n",
        "                  train_summary_writer=train_summary_writer,\n",
        "                  val_summary_writer=val_summary_writer,\n",
        "                  )\n",
        "\n",
        "    print(\"Training finished.\")"
      ]
    },
    {
      "cell_type": "code",
      "source": [
        "subtask(\"a\")"
      ],
      "metadata": {
        "id": "PxNT1_hbC8Dz",
        "colab": {
          "base_uri": "https://localhost:8080/",
          "height": 1000,
          "referenced_widgets": [
            "c3b9941ec30d4b3fbedcac22f894f460",
            "1469ee464a384ef08222a5222510e683",
            "f1e4ca4db70b47bbb53a535ed2c7045f",
            "4be27ffd06cb4604bc6e39e37c80f80d",
            "6ed9fcf4287947e494409877ab849384",
            "0637d45737e24de79aaf19cf1af55e9d",
            "9ea90b14621647b98f386cdde789943b",
            "85068dda3c1042d988f394fddd36a1b1",
            "d684967b58814772b23cbc7ef9be9824",
            "7ff3971c43d5493e9214ad8635a0ac31",
            "676b0e11e9cd4ced855f4ed12ae405bf"
          ]
        },
        "outputId": "d034b3f7-8920-4997-e6a1-806794a0653b"
      },
      "execution_count": 9,
      "outputs": [
        {
          "output_type": "stream",
          "name": "stdout",
          "text": [
            "Downloading and preparing dataset 11.06 MiB (download: 11.06 MiB, generated: 21.00 MiB, total: 32.06 MiB) to ~/tensorflow_datasets/mnist/3.0.1...\n"
          ]
        },
        {
          "output_type": "display_data",
          "data": {
            "text/plain": [
              "Dl Completed...:   0%|          | 0/4 [00:00<?, ? file/s]"
            ],
            "application/vnd.jupyter.widget-view+json": {
              "version_major": 2,
              "version_minor": 0,
              "model_id": "c3b9941ec30d4b3fbedcac22f894f460"
            }
          },
          "metadata": {}
        },
        {
          "output_type": "stream",
          "name": "stdout",
          "text": [
            "Dataset mnist downloaded and prepared to ~/tensorflow_datasets/mnist/3.0.1. Subsequent calls will reuse this data.\n",
            "Epoch 0:\n"
          ]
        },
        {
          "output_type": "stream",
          "name": "stderr",
          "text": [
            "100%|██████████| 1875/1875 [00:20<00:00, 91.05it/s] \n"
          ]
        },
        {
          "output_type": "stream",
          "name": "stdout",
          "text": [
            "['mean: 0.20400238037109375', 'acc: 0.9207666516304016']\n",
            "['val_mean: 0.14142201840877533', 'val_acc: 0.9456999897956848']\n",
            "\n",
            "\n",
            "Epoch 1:\n"
          ]
        },
        {
          "output_type": "stream",
          "name": "stderr",
          "text": [
            "100%|██████████| 1875/1875 [00:12<00:00, 144.89it/s]\n"
          ]
        },
        {
          "output_type": "stream",
          "name": "stdout",
          "text": [
            "['mean: 0.12868772447109222', 'acc: 0.9519833326339722']\n",
            "['val_mean: 0.11819861084222794', 'val_acc: 0.9602000117301941']\n",
            "\n",
            "\n",
            "Epoch 2:\n"
          ]
        },
        {
          "output_type": "stream",
          "name": "stderr",
          "text": [
            "100%|██████████| 1875/1875 [00:12<00:00, 146.55it/s]\n"
          ]
        },
        {
          "output_type": "stream",
          "name": "stdout",
          "text": [
            "['mean: 0.11427542567253113', 'acc: 0.9591666460037231']\n",
            "['val_mean: 0.10275159031152725', 'val_acc: 0.9628999829292297']\n",
            "\n",
            "\n",
            "Epoch 3:\n"
          ]
        },
        {
          "output_type": "stream",
          "name": "stderr",
          "text": [
            "100%|██████████| 1875/1875 [00:13<00:00, 135.46it/s]\n"
          ]
        },
        {
          "output_type": "stream",
          "name": "stdout",
          "text": [
            "['mean: 0.10257577151060104', 'acc: 0.9640499949455261']\n",
            "['val_mean: 0.10203292220830917', 'val_acc: 0.9621000289916992']\n",
            "\n",
            "\n",
            "Epoch 4:\n"
          ]
        },
        {
          "output_type": "stream",
          "name": "stderr",
          "text": [
            "100%|██████████| 1875/1875 [00:20<00:00, 91.57it/s] \n"
          ]
        },
        {
          "output_type": "stream",
          "name": "stdout",
          "text": [
            "['mean: 0.09750419110059738', 'acc: 0.9664999842643738']\n",
            "['val_mean: 0.10596373677253723', 'val_acc: 0.9635999798774719']\n",
            "\n",
            "\n",
            "Epoch 5:\n"
          ]
        },
        {
          "output_type": "stream",
          "name": "stderr",
          "text": [
            "100%|██████████| 1875/1875 [00:20<00:00, 91.56it/s] \n"
          ]
        },
        {
          "output_type": "stream",
          "name": "stdout",
          "text": [
            "['mean: 0.09654384106397629', 'acc: 0.9685500264167786']\n",
            "['val_mean: 0.09232468903064728', 'val_acc: 0.9739999771118164']\n",
            "\n",
            "\n",
            "Epoch 6:\n"
          ]
        },
        {
          "output_type": "stream",
          "name": "stderr",
          "text": [
            "100%|██████████| 1875/1875 [00:12<00:00, 145.88it/s]\n"
          ]
        },
        {
          "output_type": "stream",
          "name": "stdout",
          "text": [
            "['mean: 0.08872833847999573', 'acc: 0.9706666469573975']\n",
            "['val_mean: 0.09616091102361679', 'val_acc: 0.9695000052452087']\n",
            "\n",
            "\n",
            "Epoch 7:\n"
          ]
        },
        {
          "output_type": "stream",
          "name": "stderr",
          "text": [
            "100%|██████████| 1875/1875 [00:20<00:00, 91.56it/s] \n"
          ]
        },
        {
          "output_type": "stream",
          "name": "stdout",
          "text": [
            "['mean: 0.08915281295776367', 'acc: 0.9711833596229553']\n",
            "['val_mean: 0.09101276844739914', 'val_acc: 0.9728999733924866']\n",
            "\n",
            "\n",
            "Epoch 8:\n"
          ]
        },
        {
          "output_type": "stream",
          "name": "stderr",
          "text": [
            "100%|██████████| 1875/1875 [00:20<00:00, 91.52it/s] \n"
          ]
        },
        {
          "output_type": "stream",
          "name": "stdout",
          "text": [
            "['mean: 0.08452092856168747', 'acc: 0.9735666513442993']\n",
            "['val_mean: 0.09901247918605804', 'val_acc: 0.9690999984741211']\n",
            "\n",
            "\n",
            "Epoch 9:\n"
          ]
        },
        {
          "output_type": "stream",
          "name": "stderr",
          "text": [
            "100%|██████████| 1875/1875 [00:20<00:00, 91.57it/s] \n"
          ]
        },
        {
          "output_type": "stream",
          "name": "stdout",
          "text": [
            "['mean: 0.08291064947843552', 'acc: 0.9743499755859375']\n",
            "['val_mean: 0.09624452888965607', 'val_acc: 0.9724000096321106']\n",
            "\n",
            "\n",
            "Training finished.\n"
          ]
        }
      ]
    },
    {
      "cell_type": "code",
      "source": [
        "subtask(\"b\")"
      ],
      "metadata": {
        "colab": {
          "base_uri": "https://localhost:8080/"
        },
        "id": "KSUvdW5CEAaa",
        "outputId": "102b5a5f-bc41-4b57-80b4-541cfdf3da47"
      },
      "execution_count": 16,
      "outputs": [
        {
          "output_type": "stream",
          "name": "stdout",
          "text": [
            "Epoch 0:\n"
          ]
        },
        {
          "output_type": "stream",
          "name": "stderr",
          "text": [
            "100%|██████████| 1875/1875 [00:19<00:00, 98.19it/s] \n"
          ]
        },
        {
          "output_type": "stream",
          "name": "stdout",
          "text": [
            "['mean: 1.251694917678833', 'acc: 0.33079999685287476']\n",
            "['val_mean: 1.182015299797058', 'val_acc: 0.49540001153945923']\n",
            "\n",
            "\n",
            "Epoch 1:\n"
          ]
        },
        {
          "output_type": "stream",
          "name": "stderr",
          "text": [
            "100%|██████████| 1875/1875 [00:12<00:00, 148.94it/s]\n"
          ]
        },
        {
          "output_type": "stream",
          "name": "stdout",
          "text": [
            "['mean: 1.1680537462234497', 'acc: 0.5353500247001648']\n",
            "['val_mean: 1.1658536195755005', 'val_acc: 0.550599992275238']\n",
            "\n",
            "\n",
            "Epoch 2:\n"
          ]
        },
        {
          "output_type": "stream",
          "name": "stderr",
          "text": [
            "100%|██████████| 1875/1875 [00:20<00:00, 91.58it/s] \n"
          ]
        },
        {
          "output_type": "stream",
          "name": "stdout",
          "text": [
            "['mean: 1.1488704681396484', 'acc: 0.5539666414260864']\n",
            "['val_mean: 1.1448982954025269', 'val_acc: 0.5514000058174133']\n",
            "\n",
            "\n",
            "Epoch 3:\n"
          ]
        },
        {
          "output_type": "stream",
          "name": "stderr",
          "text": [
            "100%|██████████| 1875/1875 [00:12<00:00, 149.66it/s]\n"
          ]
        },
        {
          "output_type": "stream",
          "name": "stdout",
          "text": [
            "['mean: 1.138388991355896', 'acc: 0.5508000254631042']\n",
            "['val_mean: 1.1241521835327148', 'val_acc: 0.5523999929428101']\n",
            "\n",
            "\n",
            "Epoch 4:\n"
          ]
        },
        {
          "output_type": "stream",
          "name": "stderr",
          "text": [
            "100%|██████████| 1875/1875 [00:20<00:00, 91.56it/s] \n"
          ]
        },
        {
          "output_type": "stream",
          "name": "stdout",
          "text": [
            "['mean: 1.124572992324829', 'acc: 0.5499833226203918']\n",
            "['val_mean: 1.117884874343872', 'val_acc: 0.5382000207901001']\n",
            "\n",
            "\n",
            "Epoch 5:\n"
          ]
        },
        {
          "output_type": "stream",
          "name": "stderr",
          "text": [
            "100%|██████████| 1875/1875 [00:12<00:00, 151.74it/s]\n"
          ]
        },
        {
          "output_type": "stream",
          "name": "stdout",
          "text": [
            "['mean: 1.1073075532913208', 'acc: 0.4453999996185303']\n",
            "['val_mean: 1.093227744102478', 'val_acc: 0.2939999997615814']\n",
            "\n",
            "\n",
            "Epoch 6:\n"
          ]
        },
        {
          "output_type": "stream",
          "name": "stderr",
          "text": [
            "100%|██████████| 1875/1875 [00:12<00:00, 150.80it/s]\n"
          ]
        },
        {
          "output_type": "stream",
          "name": "stdout",
          "text": [
            "['mean: 1.0800666809082031', 'acc: 0.32214999198913574']\n",
            "['val_mean: 1.071268916130066', 'val_acc: 0.3675000071525574']\n",
            "\n",
            "\n",
            "Epoch 7:\n"
          ]
        },
        {
          "output_type": "stream",
          "name": "stderr",
          "text": [
            "100%|██████████| 1875/1875 [00:12<00:00, 148.51it/s]\n"
          ]
        },
        {
          "output_type": "stream",
          "name": "stdout",
          "text": [
            "['mean: 1.0596716403961182', 'acc: 0.382750004529953']\n",
            "['val_mean: 1.046690583229065', 'val_acc: 0.4207000136375427']\n",
            "\n",
            "\n",
            "Epoch 8:\n"
          ]
        },
        {
          "output_type": "stream",
          "name": "stderr",
          "text": [
            "100%|██████████| 1875/1875 [00:20<00:00, 91.57it/s] \n"
          ]
        },
        {
          "output_type": "stream",
          "name": "stdout",
          "text": [
            "['mean: 1.038266897201538', 'acc: 0.42551666498184204']\n",
            "['val_mean: 1.030623435974121', 'val_acc: 0.48410001397132874']\n",
            "\n",
            "\n",
            "Epoch 9:\n"
          ]
        },
        {
          "output_type": "stream",
          "name": "stderr",
          "text": [
            "100%|██████████| 1875/1875 [00:20<00:00, 91.57it/s] \n"
          ]
        },
        {
          "output_type": "stream",
          "name": "stdout",
          "text": [
            "['mean: 1.0276178121566772', 'acc: 0.44448333978652954']\n",
            "['val_mean: 1.0045217275619507', 'val_acc: 0.4571000039577484']\n",
            "\n",
            "\n",
            "Training finished.\n"
          ]
        }
      ]
    }
  ],
  "metadata": {
    "colab": {
      "provenance": []
    },
    "kernelspec": {
      "display_name": "Python 3 (ipykernel)",
      "language": "python",
      "name": "python3"
    },
    "language_info": {
      "codemirror_mode": {
        "name": "ipython",
        "version": 3
      },
      "file_extension": ".py",
      "mimetype": "text/x-python",
      "name": "python",
      "nbconvert_exporter": "python",
      "pygments_lexer": "ipython3",
      "version": "3.7.13"
    },
    "vscode": {
      "interpreter": {
        "hash": "54ff86533a6a943eb33cb0954e5964c6e356fb8134919fff31cf4713965c9c7c"
      }
    },
    "accelerator": "GPU",
    "gpuClass": "standard",
    "widgets": {
      "application/vnd.jupyter.widget-state+json": {
        "c3b9941ec30d4b3fbedcac22f894f460": {
          "model_module": "@jupyter-widgets/controls",
          "model_name": "HBoxModel",
          "model_module_version": "1.5.0",
          "state": {
            "_dom_classes": [],
            "_model_module": "@jupyter-widgets/controls",
            "_model_module_version": "1.5.0",
            "_model_name": "HBoxModel",
            "_view_count": null,
            "_view_module": "@jupyter-widgets/controls",
            "_view_module_version": "1.5.0",
            "_view_name": "HBoxView",
            "box_style": "",
            "children": [
              "IPY_MODEL_1469ee464a384ef08222a5222510e683",
              "IPY_MODEL_f1e4ca4db70b47bbb53a535ed2c7045f",
              "IPY_MODEL_4be27ffd06cb4604bc6e39e37c80f80d"
            ],
            "layout": "IPY_MODEL_6ed9fcf4287947e494409877ab849384"
          }
        },
        "1469ee464a384ef08222a5222510e683": {
          "model_module": "@jupyter-widgets/controls",
          "model_name": "HTMLModel",
          "model_module_version": "1.5.0",
          "state": {
            "_dom_classes": [],
            "_model_module": "@jupyter-widgets/controls",
            "_model_module_version": "1.5.0",
            "_model_name": "HTMLModel",
            "_view_count": null,
            "_view_module": "@jupyter-widgets/controls",
            "_view_module_version": "1.5.0",
            "_view_name": "HTMLView",
            "description": "",
            "description_tooltip": null,
            "layout": "IPY_MODEL_0637d45737e24de79aaf19cf1af55e9d",
            "placeholder": "​",
            "style": "IPY_MODEL_9ea90b14621647b98f386cdde789943b",
            "value": "Dl Completed...: 100%"
          }
        },
        "f1e4ca4db70b47bbb53a535ed2c7045f": {
          "model_module": "@jupyter-widgets/controls",
          "model_name": "FloatProgressModel",
          "model_module_version": "1.5.0",
          "state": {
            "_dom_classes": [],
            "_model_module": "@jupyter-widgets/controls",
            "_model_module_version": "1.5.0",
            "_model_name": "FloatProgressModel",
            "_view_count": null,
            "_view_module": "@jupyter-widgets/controls",
            "_view_module_version": "1.5.0",
            "_view_name": "ProgressView",
            "bar_style": "success",
            "description": "",
            "description_tooltip": null,
            "layout": "IPY_MODEL_85068dda3c1042d988f394fddd36a1b1",
            "max": 4,
            "min": 0,
            "orientation": "horizontal",
            "style": "IPY_MODEL_d684967b58814772b23cbc7ef9be9824",
            "value": 4
          }
        },
        "4be27ffd06cb4604bc6e39e37c80f80d": {
          "model_module": "@jupyter-widgets/controls",
          "model_name": "HTMLModel",
          "model_module_version": "1.5.0",
          "state": {
            "_dom_classes": [],
            "_model_module": "@jupyter-widgets/controls",
            "_model_module_version": "1.5.0",
            "_model_name": "HTMLModel",
            "_view_count": null,
            "_view_module": "@jupyter-widgets/controls",
            "_view_module_version": "1.5.0",
            "_view_name": "HTMLView",
            "description": "",
            "description_tooltip": null,
            "layout": "IPY_MODEL_7ff3971c43d5493e9214ad8635a0ac31",
            "placeholder": "​",
            "style": "IPY_MODEL_676b0e11e9cd4ced855f4ed12ae405bf",
            "value": " 4/4 [00:04&lt;00:00,  1.38s/ file]"
          }
        },
        "6ed9fcf4287947e494409877ab849384": {
          "model_module": "@jupyter-widgets/base",
          "model_name": "LayoutModel",
          "model_module_version": "1.2.0",
          "state": {
            "_model_module": "@jupyter-widgets/base",
            "_model_module_version": "1.2.0",
            "_model_name": "LayoutModel",
            "_view_count": null,
            "_view_module": "@jupyter-widgets/base",
            "_view_module_version": "1.2.0",
            "_view_name": "LayoutView",
            "align_content": null,
            "align_items": null,
            "align_self": null,
            "border": null,
            "bottom": null,
            "display": null,
            "flex": null,
            "flex_flow": null,
            "grid_area": null,
            "grid_auto_columns": null,
            "grid_auto_flow": null,
            "grid_auto_rows": null,
            "grid_column": null,
            "grid_gap": null,
            "grid_row": null,
            "grid_template_areas": null,
            "grid_template_columns": null,
            "grid_template_rows": null,
            "height": null,
            "justify_content": null,
            "justify_items": null,
            "left": null,
            "margin": null,
            "max_height": null,
            "max_width": null,
            "min_height": null,
            "min_width": null,
            "object_fit": null,
            "object_position": null,
            "order": null,
            "overflow": null,
            "overflow_x": null,
            "overflow_y": null,
            "padding": null,
            "right": null,
            "top": null,
            "visibility": null,
            "width": null
          }
        },
        "0637d45737e24de79aaf19cf1af55e9d": {
          "model_module": "@jupyter-widgets/base",
          "model_name": "LayoutModel",
          "model_module_version": "1.2.0",
          "state": {
            "_model_module": "@jupyter-widgets/base",
            "_model_module_version": "1.2.0",
            "_model_name": "LayoutModel",
            "_view_count": null,
            "_view_module": "@jupyter-widgets/base",
            "_view_module_version": "1.2.0",
            "_view_name": "LayoutView",
            "align_content": null,
            "align_items": null,
            "align_self": null,
            "border": null,
            "bottom": null,
            "display": null,
            "flex": null,
            "flex_flow": null,
            "grid_area": null,
            "grid_auto_columns": null,
            "grid_auto_flow": null,
            "grid_auto_rows": null,
            "grid_column": null,
            "grid_gap": null,
            "grid_row": null,
            "grid_template_areas": null,
            "grid_template_columns": null,
            "grid_template_rows": null,
            "height": null,
            "justify_content": null,
            "justify_items": null,
            "left": null,
            "margin": null,
            "max_height": null,
            "max_width": null,
            "min_height": null,
            "min_width": null,
            "object_fit": null,
            "object_position": null,
            "order": null,
            "overflow": null,
            "overflow_x": null,
            "overflow_y": null,
            "padding": null,
            "right": null,
            "top": null,
            "visibility": null,
            "width": null
          }
        },
        "9ea90b14621647b98f386cdde789943b": {
          "model_module": "@jupyter-widgets/controls",
          "model_name": "DescriptionStyleModel",
          "model_module_version": "1.5.0",
          "state": {
            "_model_module": "@jupyter-widgets/controls",
            "_model_module_version": "1.5.0",
            "_model_name": "DescriptionStyleModel",
            "_view_count": null,
            "_view_module": "@jupyter-widgets/base",
            "_view_module_version": "1.2.0",
            "_view_name": "StyleView",
            "description_width": ""
          }
        },
        "85068dda3c1042d988f394fddd36a1b1": {
          "model_module": "@jupyter-widgets/base",
          "model_name": "LayoutModel",
          "model_module_version": "1.2.0",
          "state": {
            "_model_module": "@jupyter-widgets/base",
            "_model_module_version": "1.2.0",
            "_model_name": "LayoutModel",
            "_view_count": null,
            "_view_module": "@jupyter-widgets/base",
            "_view_module_version": "1.2.0",
            "_view_name": "LayoutView",
            "align_content": null,
            "align_items": null,
            "align_self": null,
            "border": null,
            "bottom": null,
            "display": null,
            "flex": null,
            "flex_flow": null,
            "grid_area": null,
            "grid_auto_columns": null,
            "grid_auto_flow": null,
            "grid_auto_rows": null,
            "grid_column": null,
            "grid_gap": null,
            "grid_row": null,
            "grid_template_areas": null,
            "grid_template_columns": null,
            "grid_template_rows": null,
            "height": null,
            "justify_content": null,
            "justify_items": null,
            "left": null,
            "margin": null,
            "max_height": null,
            "max_width": null,
            "min_height": null,
            "min_width": null,
            "object_fit": null,
            "object_position": null,
            "order": null,
            "overflow": null,
            "overflow_x": null,
            "overflow_y": null,
            "padding": null,
            "right": null,
            "top": null,
            "visibility": null,
            "width": null
          }
        },
        "d684967b58814772b23cbc7ef9be9824": {
          "model_module": "@jupyter-widgets/controls",
          "model_name": "ProgressStyleModel",
          "model_module_version": "1.5.0",
          "state": {
            "_model_module": "@jupyter-widgets/controls",
            "_model_module_version": "1.5.0",
            "_model_name": "ProgressStyleModel",
            "_view_count": null,
            "_view_module": "@jupyter-widgets/base",
            "_view_module_version": "1.2.0",
            "_view_name": "StyleView",
            "bar_color": null,
            "description_width": ""
          }
        },
        "7ff3971c43d5493e9214ad8635a0ac31": {
          "model_module": "@jupyter-widgets/base",
          "model_name": "LayoutModel",
          "model_module_version": "1.2.0",
          "state": {
            "_model_module": "@jupyter-widgets/base",
            "_model_module_version": "1.2.0",
            "_model_name": "LayoutModel",
            "_view_count": null,
            "_view_module": "@jupyter-widgets/base",
            "_view_module_version": "1.2.0",
            "_view_name": "LayoutView",
            "align_content": null,
            "align_items": null,
            "align_self": null,
            "border": null,
            "bottom": null,
            "display": null,
            "flex": null,
            "flex_flow": null,
            "grid_area": null,
            "grid_auto_columns": null,
            "grid_auto_flow": null,
            "grid_auto_rows": null,
            "grid_column": null,
            "grid_gap": null,
            "grid_row": null,
            "grid_template_areas": null,
            "grid_template_columns": null,
            "grid_template_rows": null,
            "height": null,
            "justify_content": null,
            "justify_items": null,
            "left": null,
            "margin": null,
            "max_height": null,
            "max_width": null,
            "min_height": null,
            "min_width": null,
            "object_fit": null,
            "object_position": null,
            "order": null,
            "overflow": null,
            "overflow_x": null,
            "overflow_y": null,
            "padding": null,
            "right": null,
            "top": null,
            "visibility": null,
            "width": null
          }
        },
        "676b0e11e9cd4ced855f4ed12ae405bf": {
          "model_module": "@jupyter-widgets/controls",
          "model_name": "DescriptionStyleModel",
          "model_module_version": "1.5.0",
          "state": {
            "_model_module": "@jupyter-widgets/controls",
            "_model_module_version": "1.5.0",
            "_model_name": "DescriptionStyleModel",
            "_view_count": null,
            "_view_module": "@jupyter-widgets/base",
            "_view_module_version": "1.2.0",
            "_view_name": "StyleView",
            "description_width": ""
          }
        }
      }
    }
  },
  "nbformat": 4,
  "nbformat_minor": 0
}