{
 "cells": [
  {
   "cell_type": "code",
   "execution_count": 1,
   "id": "af2b36fa",
   "metadata": {},
   "outputs": [],
   "source": [
    "import tensorflow as tf\n",
    "import tensorflow_datasets as tfds\n",
    "import datetime\n",
    "\n",
    "%load_ext tensorboard"
   ]
  },
  {
   "cell_type": "code",
   "execution_count": 2,
   "id": "1371a7eb",
   "metadata": {},
   "outputs": [
    {
     "name": "stderr",
     "output_type": "stream",
     "text": [
      "2022-11-20 12:44:47.249134: I tensorflow/core/platform/cpu_feature_guard.cc:193] This TensorFlow binary is optimized with oneAPI Deep Neural Network Library (oneDNN) to use the following CPU instructions in performance-critical operations:  SSE4.1 SSE4.2 AVX AVX2 FMA\n",
      "To enable them in other operations, rebuild TensorFlow with the appropriate compiler flags.\n",
      "2022-11-20 12:44:47.250908: I tensorflow/core/common_runtime/process_util.cc:146] Creating new thread pool with default inter op setting: 2. Tune using inter_op_parallelism_threads for best performance.\n"
     ]
    }
   ],
   "source": [
    "# 1. get mnist from tensorflow_datasets\n",
    "mnist = tfds.load(\"mnist\", split =[\"train\",\"test\"], as_supervised=True)\n",
    "train_ds = mnist[0]\n",
    "val_ds = mnist[1]\n",
    "\n",
    "# 2. write function to create the dataset that we want\n",
    "def preprocess(data, batch_size, target_function):\n",
    "    # image should be float\n",
    "    data = data.map(lambda x, t: (tf.cast(x, float), t))\n",
    "    # image should be flattened\n",
    "    data = data.map(lambda x, t: (tf.reshape(x, (-1,)), t))\n",
    "    # image vector will here have values between -1 and 1\n",
    "    data = data.map(lambda x,t: ((x/128.)-1., t))\n",
    "    # we want to have two mnist images in each example\n",
    "    # this leads to a single example being ((x1,y1),(x2,y2))\n",
    "    zipped_ds = tf.data.Dataset.zip((data.shuffle(2000), \n",
    "                                     data.shuffle(2000)))\n",
    "    #for subtask a: map ((x1,y1),(x2,y2)) to (x1,x2, y1+y2 >= 5*) *boolean\n",
    "    #for loss use binary cross entropy and for activation function sigmoid\n",
    "    #for subtask b: output layer is vector for values betweeen -9 and +9 -> turn into one_hot_vector\n",
    "    #for loss use categorical cross entropy and for activation function softmax\n",
    "    zipped_ds = zipped_ds.map(lambda x1, x2: (x1[0], x2[0], target_function(x1[1], x2[1])))\n",
    "    if type(zipped_ds.t) == bool:\n",
    "        # transform boolean target to int\n",
    "        zipped_ds = zipped_ds.map(lambda x1, x2, t: (x1,x2, tf.cast(t, tf.int32)))\n",
    "    else:\n",
    "        #create one-hot targets\n",
    "        mnist = mnist.map(lambda img, target: (img, tf.one_hot(target, depth=19)))\n",
    "    # batch the dataset\n",
    "    zipped_ds = zipped_ds.batch(batch_size)\n",
    "    # prefetch\n",
    "    zipped_ds = zipped_ds.prefetch(tf.data.AUTOTUNE)\n",
    "    return zipped_ds\n",
    "\n",
    "train_ds = preprocess(train_ds, batch_size=32) #train_ds.apply(preprocess)\n",
    "val_ds = preprocess(val_ds, batch_size=32) #val_ds.apply(preprocess)\n",
    "\n"
   ]
  },
  {
   "cell_type": "code",
   "execution_count": 3,
   "id": "acd60dd8",
   "metadata": {},
   "outputs": [
    {
     "name": "stdout",
     "output_type": "stream",
     "text": [
      "(32, 784) (32, 784) (32,)\n"
     ]
    },
    {
     "name": "stderr",
     "output_type": "stream",
     "text": [
      "2022-11-20 12:46:36.485314: W tensorflow/core/kernels/data/cache_dataset_ops.cc:856] The calling iterator did not fully read the dataset being cached. In order to avoid unexpected truncation of the dataset, the partially cached contents of the dataset  will be discarded. This can happen if you have an input pipeline similar to `dataset.cache().take(k).repeat()`. You should use `dataset.take(k).cache().repeat()` instead.\n",
      "2022-11-20 12:46:36.488758: W tensorflow/core/kernels/data/cache_dataset_ops.cc:856] The calling iterator did not fully read the dataset being cached. In order to avoid unexpected truncation of the dataset, the partially cached contents of the dataset  will be discarded. This can happen if you have an input pipeline similar to `dataset.cache().take(k).repeat()`. You should use `dataset.take(k).cache().repeat()` instead.\n"
     ]
    }
   ],
   "source": [
    "# check the contents of the dataset\n",
    "for img1, img2, label in train_ds.take(1):\n",
    "    print(img1.shape, img2.shape, label.shape)"
   ]
  },
  {
   "cell_type": "code",
   "execution_count": null,
   "id": "b3474d40",
   "metadata": {},
   "outputs": [],
   "source": [
    "\n",
    "\n",
    "class TwinMNISTModel(tf.keras.Model):\n",
    "\n",
    "    # 1. constructor\n",
    "    def __init__(self, hidden_activation, output_activation):\n",
    "        super().__init__()\n",
    "        # inherit functionality from parent class\n",
    "\n",
    "        # optimizer, loss function and metrics\n",
    "        self.metrics_list = [tf.keras.metrics.BinaryAccuracy(),\n",
    "                             tf.keras.metrics.Mean(name=\"loss\")]\n",
    "        \n",
    "        self.optimizer = tf.keras.optimizers.Adam()\n",
    "        \n",
    "        self.loss_function = tf.keras.losses.BinaryCrossentropy()\n",
    "        \n",
    "        # layers to be used\n",
    "        self.dense1 = tf.keras.layers.Dense(32, activation=hidden_activation) #a: ? b: ?\n",
    "        self.dense2 = tf.keras.layers.Dense(32, activation=hidden_activation)\n",
    "        \n",
    "        self.out_layer = tf.keras.layer.Dense(1,activation=output_activation) #a: sigmoid b: softmax\n",
    "        \n",
    "        \n",
    "        \n",
    "        \n",
    "    # 2. call method (forward computation)\n",
    "    def call(self, images, training=False):\n",
    "        img1, img2 = images\n",
    "        \n",
    "        img1_x = self.dense1(img1)\n",
    "        img1_x = self.dense2(img1_x)\n",
    "        \n",
    "        img2_x = self.dense1(img2)\n",
    "        img2_x = self.dense2(img2_x)\n",
    "        \n",
    "        combined_x = tf.concat([img1_x, img2_x ], axis=1)\n",
    "        \n",
    "        return self.out_layer(combined_x)\n",
    "\n",
    "\n",
    "\n",
    "    # 3. metrics property\n",
    "    @property\n",
    "    def metrics(self):\n",
    "        return self.metrics_list\n",
    "        # return a list with all metrics in the model\n",
    "\n",
    "\n",
    "\n",
    "    # 4. reset all metrics objects\n",
    "    def reset_metrics(self):\n",
    "        for metric in self.metrics:\n",
    "            metrics.reset_states()\n",
    "\n",
    "\n",
    "\n",
    "    # 5. train step method\n",
    "    def train_step(self, data):\n",
    "        img1, img2, label = data\n",
    "        \n",
    "        with tf.GradientTape() as tape:\n",
    "            output = self((img1, img2), training=True)\n",
    "            loss = self.loss_function(label, output)\n",
    "            \n",
    "        gradients = tape.gradient(loss, self.trainable_variables)\n",
    "        \n",
    "        # update the state of the metrics according to loss\n",
    "        # return a dictionary with metric names as keys and metric results as values\n",
    "\n",
    "\n",
    "\n",
    "    # 6. test_step method\n",
    "    def test(model, test_data, loss_function):\n",
    "        # test over complete test data\n",
    "\n",
    "        #record accuracy and loss in list\n",
    "        test_accuracy_aggregator = []\n",
    "        test_loss_aggregator = []\n",
    "\n",
    "        for (input, target) in test_data:\n",
    "            #perform forward step\n",
    "            prediction = model(input)\n",
    "            #calculate loss and accuracy\n",
    "            sample_test_loss = loss_function(target, prediction) #a: binary cross entropy b: categorical cross entropy\n",
    "            sample_test_accuracy =  np.argmax(target, axis=1) == np.argmax(prediction, axis=1)\n",
    "            sample_test_accuracy = np.mean(sample_test_accuracy)\n",
    "            #append accuracy and loss to list\n",
    "            test_loss_aggregator.append(sample_test_loss.numpy())\n",
    "            test_accuracy_aggregator.append(np.mean(sample_test_accuracy))\n",
    "\n",
    "        #calculate mean of loss and accuracy to return\n",
    "        test_loss = tf.reduce_mean(test_loss_aggregator)\n",
    "        test_accuracy = tf.reduce_mean(test_accuracy_aggregator)\n",
    "\n",
    "        return test_loss, test_accuracy\n",
    "\n"
   ]
  },
  {
   "cell_type": "code",
   "execution_count": null,
   "id": "d10b8292",
   "metadata": {},
   "outputs": [],
   "source": []
  }
 ],
 "metadata": {
  "kernelspec": {
   "display_name": "Python 3 (ipykernel)",
   "language": "python",
   "name": "python3"
  },
  "language_info": {
   "codemirror_mode": {
    "name": "ipython",
    "version": 3
   },
   "file_extension": ".py",
   "mimetype": "text/x-python",
   "name": "python",
   "nbconvert_exporter": "python",
   "pygments_lexer": "ipython3",
   "version": "3.7.13"
  }
 },
 "nbformat": 4,
 "nbformat_minor": 5
}
